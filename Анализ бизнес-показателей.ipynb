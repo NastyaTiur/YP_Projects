{
 "cells": [
  {
   "cell_type": "markdown",
   "metadata": {},
   "source": [
    "# Проект: Анализ бизнес-показателей продукта"
   ]
  },
  {
   "cell_type": "markdown",
   "metadata": {},
   "source": [
    "У вас в распоряжении есть данные от продукта \"A\" с июня 2017 по конец мая 2018 года:\n",
    "лог сервера с данными о посещениях сайта продукта \"A\",\n",
    "выгрузка всех заказов за этот период,\n",
    "статистика рекламных расходов. Задача: помочь маркетологам оптимизировать маркетинговые затраты."
   ]
  },
  {
   "cell_type": "markdown",
   "metadata": {},
   "source": [
    "## Содержание работы:\n",
    "\n",
    "1. [Предобработка данных](#start)\n",
    "\n",
    "2. [Продуктовые метрики](#prod)\n",
    "    - [DAU, WAU, MAU](#AU)\n",
    "    - [Количество сессий на одного пользователя](#ds)\n",
    "    - [Средняя продолжительность сессии (ASL)](#ASL)\n",
    "    - [Retantion Rate](#RR)\n",
    "\n",
    "\n",
    "3. [Продажи](#sales)\n",
    "    - [Период первой покупки](#first_order)\n",
    "    - [Количество покупок за период и средний чек](#month_stat)\n",
    "    - [Пожизненная ценность клиента (LTV)](#LTV)\n",
    "\n",
    "\n",
    "4. [Маркетинг](#marceting)\n",
    "    - [Затраты на маркетинг](#m_costs)\n",
    "    - [Затраты на привлечение 1 пользователя (CAC)](#CAC)\n",
    "    - [Окупаемость затрат на маркетинг (ROMI)](#ROMI)\n",
    "\n",
    "\n",
    "5. [Общий вывод](#end)\n"
   ]
  },
  {
   "cell_type": "markdown",
   "metadata": {},
   "source": [
    "## Предобработка данных <a id=\"start\"></a>"
   ]
  },
  {
   "cell_type": "code",
   "execution_count": 1,
   "metadata": {},
   "outputs": [],
   "source": [
    "import pandas as pd\n",
    "from matplotlib import pyplot as plt\n",
    "import seaborn as sns\n",
    "import numpy as np\n",
    "\n",
    "visits = pd.read_csv('/datasets/visits_log.csv')\n",
    "orders = pd.read_csv('/datasets/orders_log.csv')\n",
    "costs = pd.read_csv('/datasets/costs.csv')"
   ]
  },
  {
   "cell_type": "code",
   "execution_count": 2,
   "metadata": {},
   "outputs": [
    {
     "name": "stdout",
     "output_type": "stream",
     "text": [
      "<class 'pandas.core.frame.DataFrame'>\n",
      "RangeIndex: 359400 entries, 0 to 359399\n",
      "Data columns (total 5 columns):\n",
      "Device       359400 non-null object\n",
      "End Ts       359400 non-null object\n",
      "Source Id    359400 non-null int64\n",
      "Start Ts     359400 non-null object\n",
      "Uid          359400 non-null uint64\n",
      "dtypes: int64(1), object(3), uint64(1)\n",
      "memory usage: 13.7+ MB\n"
     ]
    }
   ],
   "source": [
    "visits.info()"
   ]
  },
  {
   "cell_type": "code",
   "execution_count": 3,
   "metadata": {},
   "outputs": [
    {
     "name": "stdout",
     "output_type": "stream",
     "text": [
      "<class 'pandas.core.frame.DataFrame'>\n",
      "RangeIndex: 50415 entries, 0 to 50414\n",
      "Data columns (total 3 columns):\n",
      "Buy Ts     50415 non-null object\n",
      "Revenue    50415 non-null float64\n",
      "Uid        50415 non-null uint64\n",
      "dtypes: float64(1), object(1), uint64(1)\n",
      "memory usage: 1.2+ MB\n"
     ]
    }
   ],
   "source": [
    "orders.info()"
   ]
  },
  {
   "cell_type": "code",
   "execution_count": 4,
   "metadata": {},
   "outputs": [
    {
     "name": "stdout",
     "output_type": "stream",
     "text": [
      "<class 'pandas.core.frame.DataFrame'>\n",
      "RangeIndex: 2542 entries, 0 to 2541\n",
      "Data columns (total 3 columns):\n",
      "source_id    2542 non-null int64\n",
      "dt           2542 non-null object\n",
      "costs        2542 non-null float64\n",
      "dtypes: float64(1), int64(1), object(1)\n",
      "memory usage: 59.7+ KB\n"
     ]
    }
   ],
   "source": [
    "costs.info()"
   ]
  },
  {
   "cell_type": "code",
   "execution_count": 5,
   "metadata": {},
   "outputs": [],
   "source": [
    "# Заменим некорректные типы данных\n",
    "visits[['End Ts', 'Start Ts']] = visits[['End Ts', 'Start Ts']].apply(pd.to_datetime)\n",
    "orders['Buy Ts'] = pd.to_datetime(orders['Buy Ts'])\n",
    "costs['dt'] = pd.to_datetime(costs['dt'])"
   ]
  },
  {
   "cell_type": "code",
   "execution_count": 6,
   "metadata": {},
   "outputs": [],
   "source": [
    "# Уберем пробелы в названиях и приведем их к нижнему регистру\n",
    "visits = visits.rename(columns={'End Ts':'end_ts','Start Ts':'start_ts', 'Source Id':'source_id'})\n",
    "orders = orders.rename(columns={'Buy Ts':'buy_ts'})\n",
    "\n",
    "visits.columns = map(str.lower, visits.columns)\n",
    "orders.columns = map(str.lower, orders.columns)"
   ]
  },
  {
   "cell_type": "code",
   "execution_count": 7,
   "metadata": {},
   "outputs": [
    {
     "name": "stdout",
     "output_type": "stream",
     "text": [
      "    device              end_ts  source_id            start_ts  \\\n",
      "0    touch 2017-12-20 17:38:00          4 2017-12-20 17:20:00   \n",
      "1  desktop 2018-02-19 17:21:00          2 2018-02-19 16:53:00   \n",
      "2    touch 2017-07-01 01:54:00          5 2017-07-01 01:54:00   \n",
      "3  desktop 2018-05-20 11:23:00          9 2018-05-20 10:59:00   \n",
      "4  desktop 2017-12-27 14:06:00          3 2017-12-27 14:06:00   \n",
      "\n",
      "                    uid  \n",
      "0  16879256277535980062  \n",
      "1    104060357244891740  \n",
      "2   7459035603376831527  \n",
      "3  16174680259334210214  \n",
      "4   9969694820036681168  \n"
     ]
    }
   ],
   "source": [
    "print(visits.head())"
   ]
  },
  {
   "cell_type": "markdown",
   "metadata": {},
   "source": [
    "## Расчет метрик"
   ]
  },
  {
   "cell_type": "markdown",
   "metadata": {},
   "source": [
    "### Продуктовые метрики <a id=\"prod\"></a>\n",
    "\n",
    "**КОЛИЧЕСТВО УНИКАЛЬНЫХ ПОЛЬЗОВАТЕЛЕЙ** <a id=\"AU\"></a>\n",
    "\n",
    "Сколько людей пользуются в день, неделю, месяц?\n",
    "\n",
    "Для расчета кол-ва пользователей, рассчитаем метрики: DAU, MAU, WAU."
   ]
  },
  {
   "cell_type": "code",
   "execution_count": 8,
   "metadata": {},
   "outputs": [],
   "source": [
    "visits['date'] = visits['start_ts'].dt.date\n",
    "visits['week'] = visits['start_ts'].dt.week\n",
    "visits['month'] = visits['start_ts'].dt.month\n",
    "visits['year'] = visits['start_ts'].dt.year"
   ]
  },
  {
   "cell_type": "code",
   "execution_count": 9,
   "metadata": {
    "scrolled": false
   },
   "outputs": [
    {
     "name": "stdout",
     "output_type": "stream",
     "text": [
      "Среднее кол-во уникальных пользователей в день (DAU): 907\n",
      "Среднее кол-во уникальных пользователей в неделю (WAU): 5716\n",
      "Среднее кол-во уникальных пользователей в месяц (MAU): 23228\n"
     ]
    }
   ],
   "source": [
    "dau_total = visits.groupby('date').agg({'uid': 'nunique'}).mean()\n",
    "wau_total = visits.groupby(['year', 'week']).agg({'uid': 'nunique'}).mean()\n",
    "mau_total = visits.groupby(['year', 'month']).agg({'uid': 'nunique'}).mean()\n",
    "\n",
    "print('Среднее кол-во уникальных пользователей в день (DAU): {}'.format(int(dau_total)))\n",
    "print('Среднее кол-во уникальных пользователей в неделю (WAU): {}'.format(int(wau_total)))\n",
    "print('Среднее кол-во уникальных пользователей в месяц (MAU): {}'.format(int(mau_total)))"
   ]
  },
  {
   "cell_type": "code",
   "execution_count": 10,
   "metadata": {},
   "outputs": [
    {
     "data": {
      "image/png": "[encoded data removed]",
      "text/plain": [
       "<Figure size 1080x216 with 1 Axes>"
      ]
     },
     "metadata": {
      "needs_background": "light"
     },
     "output_type": "display_data"
    },
    {
     "data": {
      "image/png": "[encoded data removed]",
      "text/plain": [
       "<Figure size 1080x216 with 1 Axes>"
      ]
     },
     "metadata": {
      "needs_background": "light"
     },
     "output_type": "display_data"
    },
    {
     "data": {
      "image/png": "[encoded data removed]",
      "text/plain": [
       "<Figure size 1080x216 with 1 Axes>"
      ]
     },
     "metadata": {
      "needs_background": "light"
     },
     "output_type": "display_data"
    }
   ],
   "source": [
    "visits.groupby(['year', 'month']).agg({'uid': 'nunique'}).plot(figsize=(15,3))\n",
    "plt.title('Динамика кол-ва уникальных пользователей в месяц')\n",
    "plt.show()\n",
    "visits.groupby(['year', 'week']).agg({'uid': 'nunique'}).plot(figsize=(15,3))\n",
    "plt.title('Динамика кол-ва уникальных пользователей в неделю')\n",
    "plt.show()\n",
    "visits.groupby('date').agg({'uid': 'nunique'}).plot(figsize=(15,3))\n",
    "plt.title('Динамика кол-ва уникальных пользователей в день')\n",
    "plt.show()"
   ]
  },
  {
   "cell_type": "code",
   "execution_count": 11,
   "metadata": {},
   "outputs": [
    {
     "data": {
      "image/png": "[encoded data removed]",
      "text/plain": [
       "<Figure size 1080x216 with 1 Axes>"
      ]
     },
     "metadata": {
      "needs_background": "light"
     },
     "output_type": "display_data"
    },
    {
     "data": {
      "image/png": "[encoded data removed]",
      "text/plain": [
       "<Figure size 1080x216 with 1 Axes>"
      ]
     },
     "metadata": {
      "needs_background": "light"
     },
     "output_type": "display_data"
    }
   ],
   "source": [
    "visits.groupby(['year', 'week']).agg({'uid': 'nunique'}).plot(figsize=(15,3))\n",
    "plt.title('Динамика кол-ва уникальных пользователей в неделю')\n",
    "plt.show()\n",
    "visits.groupby('date').agg({'uid': 'nunique'}).plot(figsize=(15,3))\n",
    "plt.title('Динамика кол-ва уникальных пользователей в день')\n",
    "plt.show()"
   ]
  },
  {
   "cell_type": "markdown",
   "metadata": {},
   "source": [
    "Из графиков видно, что кол-во пользователей равномерно увеличивалось до конца 2017 года, в 2018 кол-во начало снижаться.\n"
   ]
  },
  {
   "cell_type": "markdown",
   "metadata": {},
   "source": [
    "**КОЛИЧЕСТВО СЕССИЙ НА ОДНОГО ПОЛЬЗОВАТЕЛЯ** <a id=\"ds\"></a>\n",
    "\n",
    "Сколько сессий в день?"
   ]
  },
  {
   "cell_type": "code",
   "execution_count": 12,
   "metadata": {},
   "outputs": [],
   "source": [
    "day_sessions = visits.groupby(['date']).agg({'uid': ['count','nunique']})\n",
    "day_sessions.columns = ['n_sessions', 'n_users']\n",
    "\n",
    "day_sessions[['n_sessions', 'n_users']] = day_sessions[['n_sessions', 'n_users']]\n",
    "day_sessions['sessions_per_user'] = day_sessions['n_sessions'] / day_sessions['n_users']"
   ]
  },
  {
   "cell_type": "code",
   "execution_count": 13,
   "metadata": {},
   "outputs": [
    {
     "data": {
      "text/html": [
       "<div>\n",
       "<style scoped>\n",
       "    .dataframe tbody tr th:only-of-type {\n",
       "        vertical-align: middle;\n",
       "    }\n",
       "\n",
       "    .dataframe tbody tr th {\n",
       "        vertical-align: top;\n",
       "    }\n",
       "\n",
       "    .dataframe thead th {\n",
       "        text-align: right;\n",
       "    }\n",
       "</style>\n",
       "<table border=\"1\" class=\"dataframe\">\n",
       "  <thead>\n",
       "    <tr style=\"text-align: right;\">\n",
       "      <th></th>\n",
       "      <th>n_sessions</th>\n",
       "      <th>n_users</th>\n",
       "      <th>sessions_per_user</th>\n",
       "    </tr>\n",
       "    <tr>\n",
       "      <th>date</th>\n",
       "      <th></th>\n",
       "      <th></th>\n",
       "      <th></th>\n",
       "    </tr>\n",
       "  </thead>\n",
       "  <tbody>\n",
       "    <tr>\n",
       "      <td>2017-06-01</td>\n",
       "      <td>664</td>\n",
       "      <td>605</td>\n",
       "      <td>1.097521</td>\n",
       "    </tr>\n",
       "    <tr>\n",
       "      <td>2017-06-02</td>\n",
       "      <td>658</td>\n",
       "      <td>608</td>\n",
       "      <td>1.082237</td>\n",
       "    </tr>\n",
       "    <tr>\n",
       "      <td>2017-06-03</td>\n",
       "      <td>477</td>\n",
       "      <td>445</td>\n",
       "      <td>1.071910</td>\n",
       "    </tr>\n",
       "    <tr>\n",
       "      <td>2017-06-04</td>\n",
       "      <td>510</td>\n",
       "      <td>476</td>\n",
       "      <td>1.071429</td>\n",
       "    </tr>\n",
       "    <tr>\n",
       "      <td>2017-06-05</td>\n",
       "      <td>893</td>\n",
       "      <td>820</td>\n",
       "      <td>1.089024</td>\n",
       "    </tr>\n",
       "    <tr>\n",
       "      <td>...</td>\n",
       "      <td>...</td>\n",
       "      <td>...</td>\n",
       "      <td>...</td>\n",
       "    </tr>\n",
       "    <tr>\n",
       "      <td>2018-05-27</td>\n",
       "      <td>672</td>\n",
       "      <td>620</td>\n",
       "      <td>1.083871</td>\n",
       "    </tr>\n",
       "    <tr>\n",
       "      <td>2018-05-28</td>\n",
       "      <td>1156</td>\n",
       "      <td>1039</td>\n",
       "      <td>1.112608</td>\n",
       "    </tr>\n",
       "    <tr>\n",
       "      <td>2018-05-29</td>\n",
       "      <td>1035</td>\n",
       "      <td>948</td>\n",
       "      <td>1.091772</td>\n",
       "    </tr>\n",
       "    <tr>\n",
       "      <td>2018-05-30</td>\n",
       "      <td>1410</td>\n",
       "      <td>1289</td>\n",
       "      <td>1.093871</td>\n",
       "    </tr>\n",
       "    <tr>\n",
       "      <td>2018-05-31</td>\n",
       "      <td>2256</td>\n",
       "      <td>1997</td>\n",
       "      <td>1.129695</td>\n",
       "    </tr>\n",
       "  </tbody>\n",
       "</table>\n",
       "<p>364 rows × 3 columns</p>\n",
       "</div>"
      ],
      "text/plain": [
       "            n_sessions  n_users  sessions_per_user\n",
       "date                                              \n",
       "2017-06-01         664      605           1.097521\n",
       "2017-06-02         658      608           1.082237\n",
       "2017-06-03         477      445           1.071910\n",
       "2017-06-04         510      476           1.071429\n",
       "2017-06-05         893      820           1.089024\n",
       "...                ...      ...                ...\n",
       "2018-05-27         672      620           1.083871\n",
       "2018-05-28        1156     1039           1.112608\n",
       "2018-05-29        1035      948           1.091772\n",
       "2018-05-30        1410     1289           1.093871\n",
       "2018-05-31        2256     1997           1.129695\n",
       "\n",
       "[364 rows x 3 columns]"
      ]
     },
     "execution_count": 13,
     "metadata": {},
     "output_type": "execute_result"
    }
   ],
   "source": [
    "day_sessions"
   ]
  },
  {
   "cell_type": "code",
   "execution_count": 14,
   "metadata": {
    "scrolled": true
   },
   "outputs": [
    {
     "name": "stdout",
     "output_type": "stream",
     "text": [
      "Среднее кол-во сессий в день: 1.08\n"
     ]
    }
   ],
   "source": [
    "print('Среднее кол-во сессий в день: {:.2f}'.format(day_sessions['sessions_per_user'].mean()))"
   ]
  },
  {
   "cell_type": "markdown",
   "metadata": {},
   "source": [
    "**СРЕДНЯЯ ПРОДОЛЖИТЕЛЬНОСТЬ СЕССИИ (ASL)** <a id=\"ASL\"></a>\n",
    "\n",
    "Сколько длится одна сессия?"
   ]
  },
  {
   "cell_type": "code",
   "execution_count": 15,
   "metadata": {},
   "outputs": [
    {
     "data": {
      "text/plain": [
       "count    359400.000000\n",
       "mean        643.506489\n",
       "std        1016.334786\n",
       "min           0.000000\n",
       "25%         120.000000\n",
       "50%         300.000000\n",
       "75%         840.000000\n",
       "max       84480.000000\n",
       "Name: ASL, dtype: float64"
      ]
     },
     "execution_count": 15,
     "metadata": {},
     "output_type": "execute_result"
    }
   ],
   "source": [
    "visits['ASL'] =  (visits['end_ts'] - visits['start_ts']).dt.seconds\n",
    "# рассчитаем среднее значение\n",
    "visits['ASL'].describe()"
   ]
  },
  {
   "cell_type": "code",
   "execution_count": 16,
   "metadata": {
    "scrolled": true
   },
   "outputs": [
    {
     "data": {
      "image/png": "[encoded data removed]",
      "text/plain": [
       "<Figure size 720x360 with 1 Axes>"
      ]
     },
     "metadata": {
      "needs_background": "light"
     },
     "output_type": "display_data"
    }
   ],
   "source": [
    "# проверим распределение на графике\n",
    "visits['ASL'].hist(bins=50, range=(0,10000), figsize=(10,5))\n",
    "plt.show()"
   ]
  },
  {
   "cell_type": "markdown",
   "metadata": {},
   "source": [
    "Длина сессий распределена неравномерно, поэтому вместо среднего значения рассчитаем наиболее часто встречающееся."
   ]
  },
  {
   "cell_type": "code",
   "execution_count": 17,
   "metadata": {},
   "outputs": [
    {
     "name": "stdout",
     "output_type": "stream",
     "text": [
      "0    60\n",
      "dtype: int64\n"
     ]
    }
   ],
   "source": [
    "print(visits['ASL'].mode())"
   ]
  },
  {
   "cell_type": "markdown",
   "metadata": {},
   "source": [
    "Чаще всего пользователи проводят на сайте около 1 минуты."
   ]
  },
  {
   "cell_type": "markdown",
   "metadata": {},
   "source": [
    "**ПОВТОРНЫЕ ЗАХОДЫ** <a id=\"RR\"></a>\n",
    "\n",
    "Как часто люди возвращаются?\n",
    "\n",
    "Рассчитаем Retention Rate, чтобы определить, как часто пользователи возвращаются.\n",
    "\n",
    "n-период/0-период*100"
   ]
  },
  {
   "cell_type": "code",
   "execution_count": 18,
   "metadata": {},
   "outputs": [],
   "source": [
    "# вычислим дату первой покупки и добавим ее к исходной таблице\n",
    "first_users_session = visits.groupby('uid')['start_ts'].min()\n",
    "first_users_session.name = 'first_session'\n",
    "visits = visits.join(first_users_session, on='uid')"
   ]
  },
  {
   "cell_type": "code",
   "execution_count": 19,
   "metadata": {},
   "outputs": [],
   "source": [
    "# выделим месяц в формате даты для формирования когорты\n",
    "visits['first_session_month'] = visits['first_session'].astype('datetime64[M]')\n",
    "visits['session_month'] = visits['start_ts'].astype('datetime64[M]')"
   ]
  },
  {
   "cell_type": "code",
   "execution_count": 20,
   "metadata": {},
   "outputs": [
    {
     "data": {
      "text/html": [
       "<div>\n",
       "<style scoped>\n",
       "    .dataframe tbody tr th:only-of-type {\n",
       "        vertical-align: middle;\n",
       "    }\n",
       "\n",
       "    .dataframe tbody tr th {\n",
       "        vertical-align: top;\n",
       "    }\n",
       "\n",
       "    .dataframe thead th {\n",
       "        text-align: right;\n",
       "    }\n",
       "</style>\n",
       "<table border=\"1\" class=\"dataframe\">\n",
       "  <thead>\n",
       "    <tr style=\"text-align: right;\">\n",
       "      <th></th>\n",
       "      <th>first_session_month</th>\n",
       "      <th>session_month</th>\n",
       "      <th>uid</th>\n",
       "      <th>age</th>\n",
       "      <th>cnt_users</th>\n",
       "    </tr>\n",
       "  </thead>\n",
       "  <tbody>\n",
       "    <tr>\n",
       "      <td>0</td>\n",
       "      <td>2017-06-01</td>\n",
       "      <td>2017-06-01</td>\n",
       "      <td>13259</td>\n",
       "      <td>0</td>\n",
       "      <td>13259</td>\n",
       "    </tr>\n",
       "    <tr>\n",
       "      <td>1</td>\n",
       "      <td>2017-06-01</td>\n",
       "      <td>2017-07-01</td>\n",
       "      <td>1043</td>\n",
       "      <td>1</td>\n",
       "      <td>13259</td>\n",
       "    </tr>\n",
       "    <tr>\n",
       "      <td>2</td>\n",
       "      <td>2017-06-01</td>\n",
       "      <td>2017-08-01</td>\n",
       "      <td>713</td>\n",
       "      <td>2</td>\n",
       "      <td>13259</td>\n",
       "    </tr>\n",
       "    <tr>\n",
       "      <td>3</td>\n",
       "      <td>2017-06-01</td>\n",
       "      <td>2017-09-01</td>\n",
       "      <td>814</td>\n",
       "      <td>3</td>\n",
       "      <td>13259</td>\n",
       "    </tr>\n",
       "    <tr>\n",
       "      <td>4</td>\n",
       "      <td>2017-06-01</td>\n",
       "      <td>2017-10-01</td>\n",
       "      <td>909</td>\n",
       "      <td>4</td>\n",
       "      <td>13259</td>\n",
       "    </tr>\n",
       "    <tr>\n",
       "      <td>...</td>\n",
       "      <td>...</td>\n",
       "      <td>...</td>\n",
       "      <td>...</td>\n",
       "      <td>...</td>\n",
       "      <td>...</td>\n",
       "    </tr>\n",
       "    <tr>\n",
       "      <td>73</td>\n",
       "      <td>2018-03-01</td>\n",
       "      <td>2018-04-01</td>\n",
       "      <td>861</td>\n",
       "      <td>1</td>\n",
       "      <td>20589</td>\n",
       "    </tr>\n",
       "    <tr>\n",
       "      <td>74</td>\n",
       "      <td>2018-03-01</td>\n",
       "      <td>2018-05-01</td>\n",
       "      <td>557</td>\n",
       "      <td>2</td>\n",
       "      <td>20589</td>\n",
       "    </tr>\n",
       "    <tr>\n",
       "      <td>75</td>\n",
       "      <td>2018-04-01</td>\n",
       "      <td>2018-04-01</td>\n",
       "      <td>15709</td>\n",
       "      <td>0</td>\n",
       "      <td>15709</td>\n",
       "    </tr>\n",
       "    <tr>\n",
       "      <td>76</td>\n",
       "      <td>2018-04-01</td>\n",
       "      <td>2018-05-01</td>\n",
       "      <td>760</td>\n",
       "      <td>1</td>\n",
       "      <td>15709</td>\n",
       "    </tr>\n",
       "    <tr>\n",
       "      <td>77</td>\n",
       "      <td>2018-05-01</td>\n",
       "      <td>2018-05-01</td>\n",
       "      <td>15273</td>\n",
       "      <td>0</td>\n",
       "      <td>15273</td>\n",
       "    </tr>\n",
       "  </tbody>\n",
       "</table>\n",
       "<p>78 rows × 5 columns</p>\n",
       "</div>"
      ],
      "text/plain": [
       "   first_session_month session_month    uid  age  cnt_users\n",
       "0           2017-06-01    2017-06-01  13259    0      13259\n",
       "1           2017-06-01    2017-07-01   1043    1      13259\n",
       "2           2017-06-01    2017-08-01    713    2      13259\n",
       "3           2017-06-01    2017-09-01    814    3      13259\n",
       "4           2017-06-01    2017-10-01    909    4      13259\n",
       "..                 ...           ...    ...  ...        ...\n",
       "73          2018-03-01    2018-04-01    861    1      20589\n",
       "74          2018-03-01    2018-05-01    557    2      20589\n",
       "75          2018-04-01    2018-04-01  15709    0      15709\n",
       "76          2018-04-01    2018-05-01    760    1      15709\n",
       "77          2018-05-01    2018-05-01  15273    0      15273\n",
       "\n",
       "[78 rows x 5 columns]"
      ]
     },
     "execution_count": 20,
     "metadata": {},
     "output_type": "execute_result"
    }
   ],
   "source": [
    "cohorts = visits.groupby(['first_session_month', 'session_month'])['uid'].nunique().reset_index()\n",
    "cohorts['age'] = ((cohorts['session_month'] - cohorts['first_session_month'])/np.timedelta64(1,'M')).round().astype('int')\n",
    "\n",
    "initial_cnt = cohorts.query('age == 0')[['first_session_month', 'uid']]\n",
    "initial_cnt = initial_cnt.rename(columns={'uid':'cnt_users'})\n",
    "\n",
    "cohorts = cohorts.merge(initial_cnt, on='first_session_month')\n",
    "cohorts"
   ]
  },
  {
   "cell_type": "code",
   "execution_count": 21,
   "metadata": {},
   "outputs": [],
   "source": [
    "cohorts['retention'] = (cohorts['uid']/cohorts['cnt_users'])\n",
    "cohorts['first_session_month'] = cohorts['first_session_month'].dt.strftime('%Y-%m')"
   ]
  },
  {
   "cell_type": "code",
   "execution_count": 22,
   "metadata": {},
   "outputs": [
    {
     "data": {
      "image/png": "[encoded data removed]",
      "text/plain": [
       "<Figure size 936x432 with 2 Axes>"
      ]
     },
     "metadata": {
      "needs_background": "light"
     },
     "output_type": "display_data"
    }
   ],
   "source": [
    "cohorts_pivot = cohorts.pivot_table(\n",
    "                index='first_session_month',\n",
    "                columns='age',\n",
    "                values='retention',\n",
    "                aggfunc='mean',\n",
    "                margins=True, margins_name = 'Вернулось пользователей')\n",
    "\n",
    "cohorts_pivot = cohorts_pivot.iloc[:, 1:-1]\n",
    "\n",
    "plt.figure(figsize=(13, 6)) \n",
    "plt.title('% вернувшихся пользователей') \n",
    "sns.heatmap(cohorts_pivot, annot=True, fmt='.2%', linewidths=1, linecolor='black')\n",
    "plt.show()"
   ]
  },
  {
   "cell_type": "markdown",
   "metadata": {},
   "source": [
    "В среднем на слудющий месяц после 1-го захода возвращается 6,5% пользователей, в последующие месяца показатель постепенно снижается."
   ]
  },
  {
   "cell_type": "markdown",
   "metadata": {},
   "source": [
    "### Продажи <a id=\"sales\"></a>"
   ]
  },
  {
   "cell_type": "markdown",
   "metadata": {},
   "source": [
    "**ПЕРИОД ПЕРВОЙ ПОКУПКИ** <a id=\"first_order\"></a>\n",
    "\n",
    "Когда люди начинают покупать? "
   ]
  },
  {
   "cell_type": "code",
   "execution_count": 23,
   "metadata": {
    "scrolled": true
   },
   "outputs": [
    {
     "data": {
      "text/html": [
       "<div>\n",
       "<style scoped>\n",
       "    .dataframe tbody tr th:only-of-type {\n",
       "        vertical-align: middle;\n",
       "    }\n",
       "\n",
       "    .dataframe tbody tr th {\n",
       "        vertical-align: top;\n",
       "    }\n",
       "\n",
       "    .dataframe thead th {\n",
       "        text-align: right;\n",
       "    }\n",
       "</style>\n",
       "<table border=\"1\" class=\"dataframe\">\n",
       "  <thead>\n",
       "    <tr style=\"text-align: right;\">\n",
       "      <th></th>\n",
       "      <th>buy_ts</th>\n",
       "      <th>first_session</th>\n",
       "    </tr>\n",
       "    <tr>\n",
       "      <th>uid</th>\n",
       "      <th></th>\n",
       "      <th></th>\n",
       "    </tr>\n",
       "  </thead>\n",
       "  <tbody>\n",
       "    <tr>\n",
       "      <td>313578113262317</td>\n",
       "      <td>2018-01-03 21:51:00</td>\n",
       "      <td>2017-09-18 22:49:00</td>\n",
       "    </tr>\n",
       "    <tr>\n",
       "      <td>1575281904278712</td>\n",
       "      <td>2017-06-03 10:13:00</td>\n",
       "      <td>2017-06-03 10:13:00</td>\n",
       "    </tr>\n",
       "    <tr>\n",
       "      <td>2429014661409475</td>\n",
       "      <td>2017-10-11 18:33:00</td>\n",
       "      <td>2017-10-11 17:14:00</td>\n",
       "    </tr>\n",
       "    <tr>\n",
       "      <td>2464366381792757</td>\n",
       "      <td>2018-01-28 15:54:00</td>\n",
       "      <td>2018-01-27 20:10:00</td>\n",
       "    </tr>\n",
       "    <tr>\n",
       "      <td>2551852515556206</td>\n",
       "      <td>2017-11-24 10:14:00</td>\n",
       "      <td>2017-11-24 10:14:00</td>\n",
       "    </tr>\n",
       "    <tr>\n",
       "      <td>...</td>\n",
       "      <td>...</td>\n",
       "      <td>...</td>\n",
       "    </tr>\n",
       "    <tr>\n",
       "      <td>18445147675727495770</td>\n",
       "      <td>2017-11-24 09:03:00</td>\n",
       "      <td>2017-08-20 13:30:00</td>\n",
       "    </tr>\n",
       "    <tr>\n",
       "      <td>18445407535914413204</td>\n",
       "      <td>2017-09-22 23:55:00</td>\n",
       "      <td>2017-09-22 23:48:00</td>\n",
       "    </tr>\n",
       "    <tr>\n",
       "      <td>18445601152732270159</td>\n",
       "      <td>2018-03-26 22:54:00</td>\n",
       "      <td>2017-08-07 11:51:00</td>\n",
       "    </tr>\n",
       "    <tr>\n",
       "      <td>18446156210226471712</td>\n",
       "      <td>2018-02-18 19:34:00</td>\n",
       "      <td>2017-11-07 10:01:00</td>\n",
       "    </tr>\n",
       "    <tr>\n",
       "      <td>18446167067214817906</td>\n",
       "      <td>2017-10-17 10:16:00</td>\n",
       "      <td>2017-10-17 10:05:00</td>\n",
       "    </tr>\n",
       "  </tbody>\n",
       "</table>\n",
       "<p>36523 rows × 2 columns</p>\n",
       "</div>"
      ],
      "text/plain": [
       "                                  buy_ts       first_session\n",
       "uid                                                         \n",
       "313578113262317      2018-01-03 21:51:00 2017-09-18 22:49:00\n",
       "1575281904278712     2017-06-03 10:13:00 2017-06-03 10:13:00\n",
       "2429014661409475     2017-10-11 18:33:00 2017-10-11 17:14:00\n",
       "2464366381792757     2018-01-28 15:54:00 2018-01-27 20:10:00\n",
       "2551852515556206     2017-11-24 10:14:00 2017-11-24 10:14:00\n",
       "...                                  ...                 ...\n",
       "18445147675727495770 2017-11-24 09:03:00 2017-08-20 13:30:00\n",
       "18445407535914413204 2017-09-22 23:55:00 2017-09-22 23:48:00\n",
       "18445601152732270159 2018-03-26 22:54:00 2017-08-07 11:51:00\n",
       "18446156210226471712 2018-02-18 19:34:00 2017-11-07 10:01:00\n",
       "18446167067214817906 2017-10-17 10:16:00 2017-10-17 10:05:00\n",
       "\n",
       "[36523 rows x 2 columns]"
      ]
     },
     "execution_count": 23,
     "metadata": {},
     "output_type": "execute_result"
    }
   ],
   "source": [
    "first_order = orders.pivot_table(index='uid', values='buy_ts', aggfunc='min')\n",
    "first_order = first_order.merge(first_users_session, on='uid')\n",
    "first_order"
   ]
  },
  {
   "cell_type": "code",
   "execution_count": 24,
   "metadata": {},
   "outputs": [],
   "source": [
    "first_order['from_session_to_order'] = (first_order['buy_ts'] - first_order['first_session'])/np.timedelta64(1,'m')"
   ]
  },
  {
   "cell_type": "code",
   "execution_count": 25,
   "metadata": {},
   "outputs": [
    {
     "data": {
      "image/png": "[encoded data removed]",
      "text/plain": [
       "<Figure size 720x360 with 1 Axes>"
      ]
     },
     "metadata": {
      "needs_background": "light"
     },
     "output_type": "display_data"
    }
   ],
   "source": [
    "first_order['from_session_to_order'].hist(bins=100, range=(0,60), figsize=(10,5))\n",
    "plt.show()"
   ]
  },
  {
   "cell_type": "markdown",
   "metadata": {},
   "source": [
    "Очень много значений приходится на 0 дельту, вероятнее всего это заказы совершенные за период менее 1 минуты после начала сессии. Также стоит обратить внимание на то, что распределение далеко от нормального, в этом случае лучше взять наиболее частое значение, а не медиану."
   ]
  },
  {
   "cell_type": "code",
   "execution_count": 26,
   "metadata": {},
   "outputs": [
    {
     "name": "stdout",
     "output_type": "stream",
     "text": [
      "0    1.0\n",
      "dtype: float64\n"
     ]
    },
    {
     "data": {
      "text/plain": [
       "count     36523.000000\n",
       "mean      24340.175834\n",
       "std       67784.774690\n",
       "min           0.000000\n",
       "25%           4.000000\n",
       "50%          16.000000\n",
       "75%        2897.000000\n",
       "max      523144.000000\n",
       "Name: from_session_to_order, dtype: float64"
      ]
     },
     "execution_count": 26,
     "metadata": {},
     "output_type": "execute_result"
    }
   ],
   "source": [
    "print(first_order['from_session_to_order'].mode())\n",
    "first_order['from_session_to_order'].describe()"
   ]
  },
  {
   "cell_type": "markdown",
   "metadata": {},
   "source": [
    "В среднем пользователи Афиши совершают первую покупку через 16 минут после начала сессии, а самое частое время заказа от 1 до 2 минут."
   ]
  },
  {
   "cell_type": "markdown",
   "metadata": {},
   "source": [
    "**КОЛИЧЕСТВО ПОКУПОК ЗА ПЕРИОД И СРЕДНИЙ ЧЕК** <a id=\"month_stat\"></a>\n",
    "\n",
    "Сколько раз покупают за период? Какой средний чек?"
   ]
  },
  {
   "cell_type": "code",
   "execution_count": 27,
   "metadata": {
    "scrolled": true
   },
   "outputs": [
    {
     "name": "stdout",
     "output_type": "stream",
     "text": [
      "Среднее кол-во покупок за все время: 1.38\n"
     ]
    },
    {
     "data": {
      "image/png": "[encoded data removed]",
      "text/plain": [
       "<Figure size 432x288 with 1 Axes>"
      ]
     },
     "metadata": {
      "needs_background": "light"
     },
     "output_type": "display_data"
    }
   ],
   "source": [
    "# посмотрим сколько покупок обычно совершают пользователи за весь срок жизни\n",
    "print('Среднее кол-во покупок за все время: {:.2f}'.format((orders.groupby('uid')['uid'].count()).mean()))\n",
    "\n",
    "orders.groupby('uid')['uid'].count().hist(bins=8, range=(0,8))\n",
    "plt.title('Кол-во продаж на 1 клиента')\n",
    "plt.show()"
   ]
  },
  {
   "cell_type": "markdown",
   "metadata": {},
   "source": [
    "Рассчитаем общий средний чек за все время."
   ]
  },
  {
   "cell_type": "code",
   "execution_count": 28,
   "metadata": {},
   "outputs": [
    {
     "name": "stdout",
     "output_type": "stream",
     "text": [
      "Средний чек на клиента за все время: 6.9 $\n",
      "Средний чек на заказ за все время: 5.0 $\n"
     ]
    }
   ],
   "source": [
    "print('Средний чек на клиента за все время: {:.1f} $'.format(orders['revenue'].sum()/orders['uid'].nunique()))\n",
    "print('Средний чек на заказ за все время: {:.1f} $'.format(orders['revenue'].sum()/orders['uid'].count()))"
   ]
  },
  {
   "cell_type": "markdown",
   "metadata": {},
   "source": [
    "Чек заказа и чек на клиента отличаются незначительно.\n",
    "Посмотрим изменение чеков и кол-ва продаж по календарным периодам."
   ]
  },
  {
   "cell_type": "code",
   "execution_count": 29,
   "metadata": {},
   "outputs": [
    {
     "data": {
      "text/html": [
       "<div>\n",
       "<style scoped>\n",
       "    .dataframe tbody tr th:only-of-type {\n",
       "        vertical-align: middle;\n",
       "    }\n",
       "\n",
       "    .dataframe tbody tr th {\n",
       "        vertical-align: top;\n",
       "    }\n",
       "\n",
       "    .dataframe thead th {\n",
       "        text-align: right;\n",
       "    }\n",
       "</style>\n",
       "<table border=\"1\" class=\"dataframe\">\n",
       "  <thead>\n",
       "    <tr style=\"text-align: right;\">\n",
       "      <th></th>\n",
       "      <th>order_month</th>\n",
       "      <th>uid_cnt</th>\n",
       "      <th>orders_cnt</th>\n",
       "      <th>revenue</th>\n",
       "      <th>orders_per_uid</th>\n",
       "      <th>client_avg_check</th>\n",
       "    </tr>\n",
       "  </thead>\n",
       "  <tbody>\n",
       "    <tr>\n",
       "      <td>0</td>\n",
       "      <td>2017-06</td>\n",
       "      <td>2023</td>\n",
       "      <td>2354</td>\n",
       "      <td>9557.49</td>\n",
       "      <td>1.16</td>\n",
       "      <td>4.72</td>\n",
       "    </tr>\n",
       "    <tr>\n",
       "      <td>1</td>\n",
       "      <td>2017-07</td>\n",
       "      <td>1984</td>\n",
       "      <td>2363</td>\n",
       "      <td>12539.47</td>\n",
       "      <td>1.19</td>\n",
       "      <td>6.32</td>\n",
       "    </tr>\n",
       "    <tr>\n",
       "      <td>2</td>\n",
       "      <td>2017-08</td>\n",
       "      <td>1472</td>\n",
       "      <td>1807</td>\n",
       "      <td>8758.78</td>\n",
       "      <td>1.23</td>\n",
       "      <td>5.95</td>\n",
       "    </tr>\n",
       "    <tr>\n",
       "      <td>3</td>\n",
       "      <td>2017-09</td>\n",
       "      <td>2750</td>\n",
       "      <td>3387</td>\n",
       "      <td>18345.51</td>\n",
       "      <td>1.23</td>\n",
       "      <td>6.67</td>\n",
       "    </tr>\n",
       "    <tr>\n",
       "      <td>4</td>\n",
       "      <td>2017-10</td>\n",
       "      <td>4675</td>\n",
       "      <td>5679</td>\n",
       "      <td>27987.70</td>\n",
       "      <td>1.21</td>\n",
       "      <td>5.99</td>\n",
       "    </tr>\n",
       "    <tr>\n",
       "      <td>5</td>\n",
       "      <td>2017-11</td>\n",
       "      <td>4547</td>\n",
       "      <td>5659</td>\n",
       "      <td>27069.93</td>\n",
       "      <td>1.24</td>\n",
       "      <td>5.95</td>\n",
       "    </tr>\n",
       "    <tr>\n",
       "      <td>6</td>\n",
       "      <td>2017-12</td>\n",
       "      <td>4942</td>\n",
       "      <td>6218</td>\n",
       "      <td>36388.60</td>\n",
       "      <td>1.26</td>\n",
       "      <td>7.36</td>\n",
       "    </tr>\n",
       "    <tr>\n",
       "      <td>7</td>\n",
       "      <td>2018-01</td>\n",
       "      <td>3898</td>\n",
       "      <td>4721</td>\n",
       "      <td>19417.13</td>\n",
       "      <td>1.21</td>\n",
       "      <td>4.98</td>\n",
       "    </tr>\n",
       "    <tr>\n",
       "      <td>8</td>\n",
       "      <td>2018-02</td>\n",
       "      <td>4258</td>\n",
       "      <td>5281</td>\n",
       "      <td>25560.54</td>\n",
       "      <td>1.24</td>\n",
       "      <td>6.00</td>\n",
       "    </tr>\n",
       "    <tr>\n",
       "      <td>9</td>\n",
       "      <td>2018-03</td>\n",
       "      <td>4181</td>\n",
       "      <td>5326</td>\n",
       "      <td>28834.59</td>\n",
       "      <td>1.27</td>\n",
       "      <td>6.90</td>\n",
       "    </tr>\n",
       "    <tr>\n",
       "      <td>10</td>\n",
       "      <td>2018-04</td>\n",
       "      <td>2744</td>\n",
       "      <td>3273</td>\n",
       "      <td>16858.06</td>\n",
       "      <td>1.19</td>\n",
       "      <td>6.14</td>\n",
       "    </tr>\n",
       "    <tr>\n",
       "      <td>11</td>\n",
       "      <td>2018-05</td>\n",
       "      <td>3544</td>\n",
       "      <td>4346</td>\n",
       "      <td>20735.98</td>\n",
       "      <td>1.23</td>\n",
       "      <td>5.85</td>\n",
       "    </tr>\n",
       "    <tr>\n",
       "      <td>12</td>\n",
       "      <td>2018-06</td>\n",
       "      <td>1</td>\n",
       "      <td>1</td>\n",
       "      <td>3.42</td>\n",
       "      <td>1.00</td>\n",
       "      <td>3.42</td>\n",
       "    </tr>\n",
       "  </tbody>\n",
       "</table>\n",
       "</div>"
      ],
      "text/plain": [
       "   order_month  uid_cnt  orders_cnt   revenue  orders_per_uid  \\\n",
       "0      2017-06     2023        2354   9557.49            1.16   \n",
       "1      2017-07     1984        2363  12539.47            1.19   \n",
       "2      2017-08     1472        1807   8758.78            1.23   \n",
       "3      2017-09     2750        3387  18345.51            1.23   \n",
       "4      2017-10     4675        5679  27987.70            1.21   \n",
       "5      2017-11     4547        5659  27069.93            1.24   \n",
       "6      2017-12     4942        6218  36388.60            1.26   \n",
       "7      2018-01     3898        4721  19417.13            1.21   \n",
       "8      2018-02     4258        5281  25560.54            1.24   \n",
       "9      2018-03     4181        5326  28834.59            1.27   \n",
       "10     2018-04     2744        3273  16858.06            1.19   \n",
       "11     2018-05     3544        4346  20735.98            1.23   \n",
       "12     2018-06        1           1      3.42            1.00   \n",
       "\n",
       "    client_avg_check  \n",
       "0               4.72  \n",
       "1               6.32  \n",
       "2               5.95  \n",
       "3               6.67  \n",
       "4               5.99  \n",
       "5               5.95  \n",
       "6               7.36  \n",
       "7               4.98  \n",
       "8               6.00  \n",
       "9               6.90  \n",
       "10              6.14  \n",
       "11              5.85  \n",
       "12              3.42  "
      ]
     },
     "execution_count": 29,
     "metadata": {},
     "output_type": "execute_result"
    }
   ],
   "source": [
    "# рассчитаем общее кол-во продаж в месяц\n",
    "orders['order_month'] = orders['buy_ts'].dt.strftime('%Y-%m')\n",
    "monthly_orders = orders.groupby('order_month').agg({'uid':['nunique', 'count'], 'revenue':'sum'}) \n",
    "monthly_orders.columns = ['uid_cnt', 'orders_cnt', 'revenue']\n",
    "monthly_orders = monthly_orders.reset_index()\n",
    "\n",
    "# считаем кол-во продаж на клиента в месяц\n",
    "monthly_orders['orders_per_uid'] = (monthly_orders['orders_cnt']/monthly_orders['uid_cnt']).round(2)\n",
    "# добавим инфу о чеке продажи\n",
    "monthly_orders['client_avg_check'] = (monthly_orders['revenue']/monthly_orders['uid_cnt']).round(2)\n",
    "monthly_orders"
   ]
  },
  {
   "cell_type": "code",
   "execution_count": 30,
   "metadata": {
    "scrolled": true
   },
   "outputs": [
    {
     "data": {
      "image/png": "[encoded data removed]",
      "text/plain": [
       "<Figure size 720x288 with 1 Axes>"
      ]
     },
     "metadata": {
      "needs_background": "light"
     },
     "output_type": "display_data"
    }
   ],
   "source": [
    "monthly_orders.pivot_table(index='order_month', values='orders_cnt').plot(kind='bar', figsize=(10,4))\n",
    "plt.title('Общее кол-во продаж по месяцам')\n",
    "plt.show()"
   ]
  },
  {
   "cell_type": "markdown",
   "metadata": {},
   "source": [
    "Исходя из графиков можно сделать вывод, что среднее кол-во покупок на 1 пользователя по году практически не отличается, а вот общее кол-во продаж в период с октября по декабрь выше, чем в остальные периоды."
   ]
  },
  {
   "cell_type": "markdown",
   "metadata": {},
   "source": [
    "Для дальнейших расчетов соберем данные по **когортам**."
   ]
  },
  {
   "cell_type": "code",
   "execution_count": 31,
   "metadata": {},
   "outputs": [],
   "source": [
    "# добавим данные о первой дате покупки, чтобы сформировать когорту\n",
    "first_order.columns = ['first_order_date', 'first_session_date', 'from_session_to_order']\n",
    "first_order = first_order.reset_index()"
   ]
  },
  {
   "cell_type": "code",
   "execution_count": 32,
   "metadata": {
    "scrolled": true
   },
   "outputs": [],
   "source": [
    "orders = orders.merge(first_order, on='uid')"
   ]
  },
  {
   "cell_type": "code",
   "execution_count": 33,
   "metadata": {
    "scrolled": true
   },
   "outputs": [],
   "source": [
    "# также добавим инфу о первом источнике и девайсе, для дальнейших расчетов\n",
    "first_source_device = visits.groupby(['uid', 'first_session'])['source_id', 'device'].first().reset_index()\n",
    "first_source_device.columns = ['uid', 'first_session', 'first_source_id', 'first_device']\n",
    "first_source_device = first_source_device.loc[:, ['uid', 'first_source_id', 'first_device']]"
   ]
  },
  {
   "cell_type": "code",
   "execution_count": 34,
   "metadata": {},
   "outputs": [],
   "source": [
    "orders = orders.merge(first_source_device, on='uid')"
   ]
  },
  {
   "cell_type": "code",
   "execution_count": 35,
   "metadata": {
    "scrolled": true
   },
   "outputs": [
    {
     "data": {
      "text/html": [
       "<div>\n",
       "<style scoped>\n",
       "    .dataframe tbody tr th:only-of-type {\n",
       "        vertical-align: middle;\n",
       "    }\n",
       "\n",
       "    .dataframe tbody tr th {\n",
       "        vertical-align: top;\n",
       "    }\n",
       "\n",
       "    .dataframe thead th {\n",
       "        text-align: right;\n",
       "    }\n",
       "</style>\n",
       "<table border=\"1\" class=\"dataframe\">\n",
       "  <thead>\n",
       "    <tr style=\"text-align: right;\">\n",
       "      <th></th>\n",
       "      <th>buy_ts</th>\n",
       "      <th>revenue</th>\n",
       "      <th>uid</th>\n",
       "      <th>order_month</th>\n",
       "      <th>first_order_date</th>\n",
       "      <th>first_session_date</th>\n",
       "      <th>from_session_to_order</th>\n",
       "      <th>first_source_id</th>\n",
       "      <th>first_device</th>\n",
       "    </tr>\n",
       "  </thead>\n",
       "  <tbody>\n",
       "    <tr>\n",
       "      <td>0</td>\n",
       "      <td>2017-06-01 00:10:00</td>\n",
       "      <td>17.0</td>\n",
       "      <td>10329302124590727494</td>\n",
       "      <td>2017-06</td>\n",
       "      <td>2017-06-01 00:10:00</td>\n",
       "      <td>2017-06-01 00:09:00</td>\n",
       "      <td>1.0</td>\n",
       "      <td>1</td>\n",
       "      <td>desktop</td>\n",
       "    </tr>\n",
       "  </tbody>\n",
       "</table>\n",
       "</div>"
      ],
      "text/plain": [
       "               buy_ts  revenue                   uid order_month  \\\n",
       "0 2017-06-01 00:10:00     17.0  10329302124590727494     2017-06   \n",
       "\n",
       "     first_order_date  first_session_date  from_session_to_order  \\\n",
       "0 2017-06-01 00:10:00 2017-06-01 00:09:00                    1.0   \n",
       "\n",
       "   first_source_id first_device  \n",
       "0                1      desktop  "
      ]
     },
     "execution_count": 35,
     "metadata": {},
     "output_type": "execute_result"
    }
   ],
   "source": [
    "orders.head(1)"
   ]
  },
  {
   "cell_type": "code",
   "execution_count": 36,
   "metadata": {},
   "outputs": [
    {
     "data": {
      "text/plain": [
       "36523"
      ]
     },
     "execution_count": 36,
     "metadata": {},
     "output_type": "execute_result"
    }
   ],
   "source": [
    "# проверим уникальность объединенных значений\n",
    "(orders.groupby(['uid', 'first_order_date', 'first_session_date', 'first_source_id', 'first_device'])['uid'].nunique()).sum()"
   ]
  },
  {
   "cell_type": "markdown",
   "metadata": {},
   "source": [
    "Теперь можно приступить к формированию когорты по дате 1 покупки:"
   ]
  },
  {
   "cell_type": "code",
   "execution_count": 37,
   "metadata": {
    "scrolled": true
   },
   "outputs": [
    {
     "data": {
      "text/html": [
       "<div>\n",
       "<style scoped>\n",
       "    .dataframe tbody tr th:only-of-type {\n",
       "        vertical-align: middle;\n",
       "    }\n",
       "\n",
       "    .dataframe tbody tr th {\n",
       "        vertical-align: top;\n",
       "    }\n",
       "\n",
       "    .dataframe thead th {\n",
       "        text-align: right;\n",
       "    }\n",
       "</style>\n",
       "<table border=\"1\" class=\"dataframe\">\n",
       "  <thead>\n",
       "    <tr style=\"text-align: right;\">\n",
       "      <th></th>\n",
       "      <th>buy_ts</th>\n",
       "      <th>revenue</th>\n",
       "      <th>uid</th>\n",
       "      <th>order_month</th>\n",
       "      <th>first_order_date</th>\n",
       "      <th>first_session_date</th>\n",
       "      <th>from_session_to_order</th>\n",
       "      <th>first_source_id</th>\n",
       "      <th>first_device</th>\n",
       "      <th>first_order_month</th>\n",
       "      <th>age</th>\n",
       "    </tr>\n",
       "  </thead>\n",
       "  <tbody>\n",
       "    <tr>\n",
       "      <td>0</td>\n",
       "      <td>2017-06-01 00:10:00</td>\n",
       "      <td>17.00</td>\n",
       "      <td>10329302124590727494</td>\n",
       "      <td>2017-06-01</td>\n",
       "      <td>2017-06-01 00:10:00</td>\n",
       "      <td>2017-06-01 00:09:00</td>\n",
       "      <td>1.0</td>\n",
       "      <td>1</td>\n",
       "      <td>desktop</td>\n",
       "      <td>2017-06-01</td>\n",
       "      <td>0</td>\n",
       "    </tr>\n",
       "    <tr>\n",
       "      <td>1</td>\n",
       "      <td>2017-06-01 00:25:00</td>\n",
       "      <td>0.55</td>\n",
       "      <td>11627257723692907447</td>\n",
       "      <td>2017-06-01</td>\n",
       "      <td>2017-06-01 00:25:00</td>\n",
       "      <td>2017-06-01 00:14:00</td>\n",
       "      <td>11.0</td>\n",
       "      <td>2</td>\n",
       "      <td>desktop</td>\n",
       "      <td>2017-06-01</td>\n",
       "      <td>0</td>\n",
       "    </tr>\n",
       "  </tbody>\n",
       "</table>\n",
       "</div>"
      ],
      "text/plain": [
       "               buy_ts  revenue                   uid order_month  \\\n",
       "0 2017-06-01 00:10:00    17.00  10329302124590727494  2017-06-01   \n",
       "1 2017-06-01 00:25:00     0.55  11627257723692907447  2017-06-01   \n",
       "\n",
       "     first_order_date  first_session_date  from_session_to_order  \\\n",
       "0 2017-06-01 00:10:00 2017-06-01 00:09:00                    1.0   \n",
       "1 2017-06-01 00:25:00 2017-06-01 00:14:00                   11.0   \n",
       "\n",
       "   first_source_id first_device first_order_month  age  \n",
       "0                1      desktop        2017-06-01    0  \n",
       "1                2      desktop        2017-06-01    0  "
      ]
     },
     "execution_count": 37,
     "metadata": {},
     "output_type": "execute_result"
    }
   ],
   "source": [
    "orders['order_month'] =  orders['buy_ts'].astype('datetime64[M]')\n",
    "orders['first_order_month'] =  orders['first_order_date'].astype('datetime64[M]')\n",
    "orders['age'] = ((orders['order_month'] - orders['first_order_month'])/np.timedelta64(1,'M')).round().astype('int')\n",
    "orders.head(2)"
   ]
  },
  {
   "cell_type": "code",
   "execution_count": 38,
   "metadata": {
    "scrolled": true
   },
   "outputs": [
    {
     "data": {
      "text/html": [
       "<div>\n",
       "<style scoped>\n",
       "    .dataframe tbody tr th:only-of-type {\n",
       "        vertical-align: middle;\n",
       "    }\n",
       "\n",
       "    .dataframe tbody tr th {\n",
       "        vertical-align: top;\n",
       "    }\n",
       "\n",
       "    .dataframe thead th {\n",
       "        text-align: right;\n",
       "    }\n",
       "</style>\n",
       "<table border=\"1\" class=\"dataframe\">\n",
       "  <thead>\n",
       "    <tr style=\"text-align: right;\">\n",
       "      <th></th>\n",
       "      <th>first_order_month</th>\n",
       "      <th>age</th>\n",
       "      <th>first_source_id</th>\n",
       "      <th>first_device</th>\n",
       "      <th>customers_cnt</th>\n",
       "      <th>orders_cnt</th>\n",
       "      <th>revenue</th>\n",
       "    </tr>\n",
       "  </thead>\n",
       "  <tbody>\n",
       "    <tr>\n",
       "      <td>0</td>\n",
       "      <td>2017-06-01</td>\n",
       "      <td>0</td>\n",
       "      <td>1</td>\n",
       "      <td>desktop</td>\n",
       "      <td>169</td>\n",
       "      <td>223</td>\n",
       "      <td>1035.53</td>\n",
       "    </tr>\n",
       "    <tr>\n",
       "      <td>1</td>\n",
       "      <td>2017-06-01</td>\n",
       "      <td>0</td>\n",
       "      <td>1</td>\n",
       "      <td>touch</td>\n",
       "      <td>34</td>\n",
       "      <td>44</td>\n",
       "      <td>132.92</td>\n",
       "    </tr>\n",
       "    <tr>\n",
       "      <td>2</td>\n",
       "      <td>2017-06-01</td>\n",
       "      <td>0</td>\n",
       "      <td>2</td>\n",
       "      <td>desktop</td>\n",
       "      <td>223</td>\n",
       "      <td>288</td>\n",
       "      <td>1302.57</td>\n",
       "    </tr>\n",
       "    <tr>\n",
       "      <td>3</td>\n",
       "      <td>2017-06-01</td>\n",
       "      <td>0</td>\n",
       "      <td>2</td>\n",
       "      <td>touch</td>\n",
       "      <td>48</td>\n",
       "      <td>59</td>\n",
       "      <td>249.19</td>\n",
       "    </tr>\n",
       "    <tr>\n",
       "      <td>4</td>\n",
       "      <td>2017-06-01</td>\n",
       "      <td>0</td>\n",
       "      <td>3</td>\n",
       "      <td>desktop</td>\n",
       "      <td>503</td>\n",
       "      <td>542</td>\n",
       "      <td>2237.20</td>\n",
       "    </tr>\n",
       "    <tr>\n",
       "      <td>...</td>\n",
       "      <td>...</td>\n",
       "      <td>...</td>\n",
       "      <td>...</td>\n",
       "      <td>...</td>\n",
       "      <td>...</td>\n",
       "      <td>...</td>\n",
       "      <td>...</td>\n",
       "    </tr>\n",
       "    <tr>\n",
       "      <td>893</td>\n",
       "      <td>2018-05-01</td>\n",
       "      <td>0</td>\n",
       "      <td>9</td>\n",
       "      <td>desktop</td>\n",
       "      <td>43</td>\n",
       "      <td>45</td>\n",
       "      <td>172.35</td>\n",
       "    </tr>\n",
       "    <tr>\n",
       "      <td>894</td>\n",
       "      <td>2018-05-01</td>\n",
       "      <td>0</td>\n",
       "      <td>9</td>\n",
       "      <td>touch</td>\n",
       "      <td>10</td>\n",
       "      <td>11</td>\n",
       "      <td>28.03</td>\n",
       "    </tr>\n",
       "    <tr>\n",
       "      <td>895</td>\n",
       "      <td>2018-05-01</td>\n",
       "      <td>0</td>\n",
       "      <td>10</td>\n",
       "      <td>desktop</td>\n",
       "      <td>85</td>\n",
       "      <td>94</td>\n",
       "      <td>381.37</td>\n",
       "    </tr>\n",
       "    <tr>\n",
       "      <td>896</td>\n",
       "      <td>2018-05-01</td>\n",
       "      <td>0</td>\n",
       "      <td>10</td>\n",
       "      <td>touch</td>\n",
       "      <td>32</td>\n",
       "      <td>39</td>\n",
       "      <td>97.56</td>\n",
       "    </tr>\n",
       "    <tr>\n",
       "      <td>897</td>\n",
       "      <td>2018-06-01</td>\n",
       "      <td>0</td>\n",
       "      <td>4</td>\n",
       "      <td>desktop</td>\n",
       "      <td>1</td>\n",
       "      <td>1</td>\n",
       "      <td>3.42</td>\n",
       "    </tr>\n",
       "  </tbody>\n",
       "</table>\n",
       "<p>898 rows × 7 columns</p>\n",
       "</div>"
      ],
      "text/plain": [
       "    first_order_month  age  first_source_id first_device  customers_cnt  \\\n",
       "0          2017-06-01    0                1      desktop            169   \n",
       "1          2017-06-01    0                1        touch             34   \n",
       "2          2017-06-01    0                2      desktop            223   \n",
       "3          2017-06-01    0                2        touch             48   \n",
       "4          2017-06-01    0                3      desktop            503   \n",
       "..                ...  ...              ...          ...            ...   \n",
       "893        2018-05-01    0                9      desktop             43   \n",
       "894        2018-05-01    0                9        touch             10   \n",
       "895        2018-05-01    0               10      desktop             85   \n",
       "896        2018-05-01    0               10        touch             32   \n",
       "897        2018-06-01    0                4      desktop              1   \n",
       "\n",
       "     orders_cnt  revenue  \n",
       "0           223  1035.53  \n",
       "1            44   132.92  \n",
       "2           288  1302.57  \n",
       "3            59   249.19  \n",
       "4           542  2237.20  \n",
       "..          ...      ...  \n",
       "893          45   172.35  \n",
       "894          11    28.03  \n",
       "895          94   381.37  \n",
       "896          39    97.56  \n",
       "897           1     3.42  \n",
       "\n",
       "[898 rows x 7 columns]"
      ]
     },
     "execution_count": 38,
     "metadata": {},
     "output_type": "execute_result"
    }
   ],
   "source": [
    "orders_group = orders.groupby(['first_order_month', 'age', 'first_source_id', 'first_device'])\\\n",
    "                        .agg({'uid':['nunique', 'count'], 'revenue':'sum'})\n",
    "orders_group.columns = ['customers_cnt', 'orders_cnt', 'revenue'] \n",
    "orders_group = orders_group.reset_index()\n",
    "orders_group"
   ]
  },
  {
   "cell_type": "markdown",
   "metadata": {},
   "source": [
    "Посмотрим на чеки в разрезе когорт."
   ]
  },
  {
   "cell_type": "code",
   "execution_count": 39,
   "metadata": {
    "scrolled": true
   },
   "outputs": [
    {
     "data": {
      "text/html": [
       "<div>\n",
       "<style scoped>\n",
       "    .dataframe tbody tr th:only-of-type {\n",
       "        vertical-align: middle;\n",
       "    }\n",
       "\n",
       "    .dataframe tbody tr th {\n",
       "        vertical-align: top;\n",
       "    }\n",
       "\n",
       "    .dataframe thead th {\n",
       "        text-align: right;\n",
       "    }\n",
       "</style>\n",
       "<table border=\"1\" class=\"dataframe\">\n",
       "  <thead>\n",
       "    <tr style=\"text-align: right;\">\n",
       "      <th></th>\n",
       "      <th>customers_cnt</th>\n",
       "      <th>orders_cnt</th>\n",
       "      <th>revenue</th>\n",
       "      <th>client_check</th>\n",
       "      <th>order_check</th>\n",
       "    </tr>\n",
       "    <tr>\n",
       "      <th>first_order_month</th>\n",
       "      <th></th>\n",
       "      <th></th>\n",
       "      <th></th>\n",
       "      <th></th>\n",
       "      <th></th>\n",
       "    </tr>\n",
       "  </thead>\n",
       "  <tbody>\n",
       "    <tr>\n",
       "      <td>2017-06-01</td>\n",
       "      <td>2653</td>\n",
       "      <td>4438</td>\n",
       "      <td>24031.69</td>\n",
       "      <td>9.06</td>\n",
       "      <td>5.41</td>\n",
       "    </tr>\n",
       "    <tr>\n",
       "      <td>2017-07-01</td>\n",
       "      <td>2348</td>\n",
       "      <td>2910</td>\n",
       "      <td>16127.92</td>\n",
       "      <td>6.87</td>\n",
       "      <td>5.54</td>\n",
       "    </tr>\n",
       "    <tr>\n",
       "      <td>2017-08-01</td>\n",
       "      <td>1721</td>\n",
       "      <td>2188</td>\n",
       "      <td>11606.26</td>\n",
       "      <td>6.74</td>\n",
       "      <td>5.30</td>\n",
       "    </tr>\n",
       "    <tr>\n",
       "      <td>2017-09-01</td>\n",
       "      <td>3147</td>\n",
       "      <td>3878</td>\n",
       "      <td>34676.32</td>\n",
       "      <td>11.02</td>\n",
       "      <td>8.94</td>\n",
       "    </tr>\n",
       "    <tr>\n",
       "      <td>2017-10-01</td>\n",
       "      <td>5049</td>\n",
       "      <td>6005</td>\n",
       "      <td>27603.45</td>\n",
       "      <td>5.47</td>\n",
       "      <td>4.60</td>\n",
       "    </tr>\n",
       "    <tr>\n",
       "      <td>2017-11-01</td>\n",
       "      <td>4720</td>\n",
       "      <td>5900</td>\n",
       "      <td>26098.99</td>\n",
       "      <td>5.53</td>\n",
       "      <td>4.42</td>\n",
       "    </tr>\n",
       "    <tr>\n",
       "      <td>2017-12-01</td>\n",
       "      <td>4842</td>\n",
       "      <td>5894</td>\n",
       "      <td>33485.74</td>\n",
       "      <td>6.92</td>\n",
       "      <td>5.68</td>\n",
       "    </tr>\n",
       "    <tr>\n",
       "      <td>2018-01-01</td>\n",
       "      <td>3658</td>\n",
       "      <td>4308</td>\n",
       "      <td>16663.13</td>\n",
       "      <td>4.56</td>\n",
       "      <td>3.87</td>\n",
       "    </tr>\n",
       "    <tr>\n",
       "      <td>2018-02-01</td>\n",
       "      <td>3866</td>\n",
       "      <td>4470</td>\n",
       "      <td>16750.50</td>\n",
       "      <td>4.33</td>\n",
       "      <td>3.75</td>\n",
       "    </tr>\n",
       "    <tr>\n",
       "      <td>2018-03-01</td>\n",
       "      <td>3681</td>\n",
       "      <td>4484</td>\n",
       "      <td>19273.41</td>\n",
       "      <td>5.24</td>\n",
       "      <td>4.30</td>\n",
       "    </tr>\n",
       "    <tr>\n",
       "      <td>2018-04-01</td>\n",
       "      <td>2345</td>\n",
       "      <td>2690</td>\n",
       "      <td>11810.61</td>\n",
       "      <td>5.04</td>\n",
       "      <td>4.39</td>\n",
       "    </tr>\n",
       "    <tr>\n",
       "      <td>2018-05-01</td>\n",
       "      <td>2988</td>\n",
       "      <td>3249</td>\n",
       "      <td>13925.76</td>\n",
       "      <td>4.66</td>\n",
       "      <td>4.29</td>\n",
       "    </tr>\n",
       "    <tr>\n",
       "      <td>2018-06-01</td>\n",
       "      <td>1</td>\n",
       "      <td>1</td>\n",
       "      <td>3.42</td>\n",
       "      <td>3.42</td>\n",
       "      <td>3.42</td>\n",
       "    </tr>\n",
       "  </tbody>\n",
       "</table>\n",
       "</div>"
      ],
      "text/plain": [
       "                   customers_cnt  orders_cnt   revenue  client_check  \\\n",
       "first_order_month                                                      \n",
       "2017-06-01                  2653        4438  24031.69          9.06   \n",
       "2017-07-01                  2348        2910  16127.92          6.87   \n",
       "2017-08-01                  1721        2188  11606.26          6.74   \n",
       "2017-09-01                  3147        3878  34676.32         11.02   \n",
       "2017-10-01                  5049        6005  27603.45          5.47   \n",
       "2017-11-01                  4720        5900  26098.99          5.53   \n",
       "2017-12-01                  4842        5894  33485.74          6.92   \n",
       "2018-01-01                  3658        4308  16663.13          4.56   \n",
       "2018-02-01                  3866        4470  16750.50          4.33   \n",
       "2018-03-01                  3681        4484  19273.41          5.24   \n",
       "2018-04-01                  2345        2690  11810.61          5.04   \n",
       "2018-05-01                  2988        3249  13925.76          4.66   \n",
       "2018-06-01                     1           1      3.42          3.42   \n",
       "\n",
       "                   order_check  \n",
       "first_order_month               \n",
       "2017-06-01                5.41  \n",
       "2017-07-01                5.54  \n",
       "2017-08-01                5.30  \n",
       "2017-09-01                8.94  \n",
       "2017-10-01                4.60  \n",
       "2017-11-01                4.42  \n",
       "2017-12-01                5.68  \n",
       "2018-01-01                3.87  \n",
       "2018-02-01                3.75  \n",
       "2018-03-01                4.30  \n",
       "2018-04-01                4.39  \n",
       "2018-05-01                4.29  \n",
       "2018-06-01                3.42  "
      ]
     },
     "execution_count": 39,
     "metadata": {},
     "output_type": "execute_result"
    }
   ],
   "source": [
    "# собираем таблицу общих показателей по когортам\n",
    "cohort_avg_check = orders_group.pivot_table(\n",
    "                    index='first_order_month', \n",
    "                    values = ['customers_cnt', 'orders_cnt', 'revenue'], \n",
    "                    aggfunc='sum')\n",
    "cohort_avg_check.columns = ['customers_cnt', 'orders_cnt', 'revenue']\n",
    "\n",
    "cohort_avg_check['client_check'] = (cohort_avg_check['revenue']/cohort_avg_check['customers_cnt']).round(2)\n",
    "cohort_avg_check['order_check'] = (cohort_avg_check['revenue']/cohort_avg_check['orders_cnt']).round(2)\n",
    "cohort_avg_check"
   ]
  },
  {
   "cell_type": "code",
   "execution_count": 40,
   "metadata": {
    "scrolled": true
   },
   "outputs": [
    {
     "data": {
      "text/plain": [
       "<Figure size 432x288 with 0 Axes>"
      ]
     },
     "metadata": {},
     "output_type": "display_data"
    },
    {
     "data": {
      "image/png": "[encoded data removed]",
      "text/plain": [
       "<Figure size 1224x288 with 1 Axes>"
      ]
     },
     "metadata": {
      "needs_background": "light"
     },
     "output_type": "display_data"
    }
   ],
   "source": [
    "# посмотрим на графике, как отличается чек по когортам\n",
    "gr = cohort_avg_check.loc[:, ['client_check', 'order_check']].reset_index()\n",
    "plt.clf()\n",
    "\n",
    "xs = gr['first_order_month']\n",
    "ys = gr['order_check']\n",
    "\n",
    "plt.figure(figsize=(17,4))\n",
    "plt.title('Средний чек заказа по когортам', fontsize = 14)\n",
    "plt.plot(xs,ys,'o-')\n",
    "\n",
    "# напием функцию, чтобы добавить подписи на график по координамтам точки\n",
    "for x,y in zip(xs,ys):\n",
    "\n",
    "    label = \"{:.2f}\".format(y)\n",
    "    plt.annotate(label, \n",
    "                 (x,y),\n",
    "                 textcoords=\"offset points\", \n",
    "                 xytext=(0,10), \n",
    "                 ha='center') \n",
    "\n",
    "plt.xticks(gr['first_order_month'])\n",
    "plt.yticks(np.arange(0,15,2))\n",
    "\n",
    "plt.show()"
   ]
  },
  {
   "cell_type": "markdown",
   "metadata": {},
   "source": [
    "Исходя из графика видно, что средний чек от когорты к когорте постепенно снижается, самый высокий чек у клиентов сентября 2019 года."
   ]
  },
  {
   "cell_type": "markdown",
   "metadata": {},
   "source": [
    "**LTV** <a id=\"LTV\"></a>\n",
    "\n",
    "Сколько денег приносят?\n",
    "\n",
    "LTV - это совокупная прибыль компании, получаемая от одного клиента за все время сотрудничества с ним. LTV рассчитывается от валовой прибыли, но т.к. у нас нет информации по себестоимости, поэтому примем условный **к-т маржинальности 0,5**.\n",
    "\n",
    "LTV = Валовая прибыль когорты / первоначальное кол-во клиентов в когорте"
   ]
  },
  {
   "cell_type": "code",
   "execution_count": 41,
   "metadata": {},
   "outputs": [],
   "source": [
    "margin_rate = 0.5\n",
    "\n",
    "# рассчитаем валовую прибыль\n",
    "orders_group['gross_profit'] = orders_group['revenue']*margin_rate"
   ]
  },
  {
   "cell_type": "code",
   "execution_count": 42,
   "metadata": {
    "scrolled": true
   },
   "outputs": [],
   "source": [
    "# считаем первоначальное кол-во пользователей и добавляем к таблице общих показателей\n",
    "n_customers = orders_group.query('age == 0')[['first_order_month', 'first_source_id', 'first_device', 'customers_cnt']]\n",
    "n_customers = n_customers.rename(columns={'customers_cnt' : 'n_customers'})\n",
    "orders_group = orders_group.merge(n_customers, on=['first_order_month', 'first_source_id', 'first_device'], how='outer')"
   ]
  },
  {
   "cell_type": "code",
   "execution_count": 43,
   "metadata": {
    "scrolled": false
   },
   "outputs": [
    {
     "data": {
      "text/html": [
       "<div>\n",
       "<style scoped>\n",
       "    .dataframe tbody tr th:only-of-type {\n",
       "        vertical-align: middle;\n",
       "    }\n",
       "\n",
       "    .dataframe tbody tr th {\n",
       "        vertical-align: top;\n",
       "    }\n",
       "\n",
       "    .dataframe thead th {\n",
       "        text-align: right;\n",
       "    }\n",
       "</style>\n",
       "<table border=\"1\" class=\"dataframe\">\n",
       "  <thead>\n",
       "    <tr style=\"text-align: right;\">\n",
       "      <th></th>\n",
       "      <th>first_order_month</th>\n",
       "      <th>age</th>\n",
       "      <th>gross_profit</th>\n",
       "      <th>n_customers</th>\n",
       "      <th>cohort_month</th>\n",
       "      <th>gp_per_client</th>\n",
       "    </tr>\n",
       "  </thead>\n",
       "  <tbody>\n",
       "    <tr>\n",
       "      <td>0</td>\n",
       "      <td>2017-06-01</td>\n",
       "      <td>0</td>\n",
       "      <td>4778.745</td>\n",
       "      <td>2023</td>\n",
       "      <td>2017-06</td>\n",
       "      <td>2.362207</td>\n",
       "    </tr>\n",
       "  </tbody>\n",
       "</table>\n",
       "</div>"
      ],
      "text/plain": [
       "  first_order_month  age  gross_profit  n_customers cohort_month  \\\n",
       "0        2017-06-01    0      4778.745         2023      2017-06   \n",
       "\n",
       "   gp_per_client  \n",
       "0       2.362207  "
      ]
     },
     "execution_count": 43,
     "metadata": {},
     "output_type": "execute_result"
    }
   ],
   "source": [
    "# рассчитаем валовую прибыль на пользователя в периоде для расчета LTV\n",
    "cohorts_orders = orders_group.groupby(['first_order_month', 'age']).agg({'gross_profit':'sum', 'n_customers':'sum'})\n",
    "cohorts_orders = cohorts_orders.reset_index()\n",
    "cohorts_orders['cohort_month'] = cohorts_orders['first_order_month'].dt.strftime('%Y-%m')\n",
    "cohorts_orders['gp_per_client'] = cohorts_orders['gross_profit']/cohorts_orders['n_customers']\n",
    "cohorts_orders.head(1)"
   ]
  },
  {
   "cell_type": "code",
   "execution_count": 44,
   "metadata": {},
   "outputs": [
    {
     "data": {
      "image/png": "[encoded data removed]",
      "text/plain": [
       "<Figure size 936x432 with 2 Axes>"
      ]
     },
     "metadata": {
      "needs_background": "light"
     },
     "output_type": "display_data"
    }
   ],
   "source": [
    "# рассчитаем LTV по каждой когорте\n",
    "LTV_final = cohorts_orders.pivot_table(\n",
    "            index='cohort_month', \n",
    "            columns='age', \n",
    "            values='gp_per_client', \n",
    "            aggfunc='sum').cumsum(axis=1).round(2) \n",
    "\n",
    "plt.figure(figsize=(13, 6)) \n",
    "plt.title('LTV по месяцам') \n",
    "sns.heatmap(LTV_final, annot=True, fmt='.2f', linewidths=1, linecolor='black')\n",
    "plt.show()"
   ]
  },
  {
   "cell_type": "markdown",
   "metadata": {},
   "source": [
    "Для того, чтобы рассчитать общий LTV по всем когортам, нужно понимать средний срок жизни клиента и считать показатель по когортам достигшим этого \"возраста\". Т.к. у нас ограниченный набор данных возьмем когорты, которые прожили хотя бы 6 месяцев - половину максимального срока жизни."
   ]
  },
  {
   "cell_type": "code",
   "execution_count": 45,
   "metadata": {
    "scrolled": true
   },
   "outputs": [
    {
     "name": "stdout",
     "output_type": "stream",
     "text": [
      "В среднем 1 клиент приносит компании: 4.06 $\n"
     ]
    }
   ],
   "source": [
    "cumulative_ltv = cohorts_orders.query('first_order_month <= 20171201').pivot_table(\n",
    "            index='first_order_month', \n",
    "            columns='age', \n",
    "            values='gp_per_client', \n",
    "            aggfunc='sum').mean(axis=0).cumsum()[5]\n",
    "\n",
    "print('В среднем 1 клиент приносит компании: {:.2f} $'.format(cumulative_ltv))"
   ]
  },
  {
   "cell_type": "markdown",
   "metadata": {},
   "source": [
    "### Маркетинг <a id=\"marceting\"></a>"
   ]
  },
  {
   "cell_type": "markdown",
   "metadata": {},
   "source": [
    "Сколько денег потратили? Всего / на каждый источник / по времени"
   ]
  },
  {
   "cell_type": "markdown",
   "metadata": {},
   "source": [
    "**ЗАТАРТЫ НА МАРКЕТИНГ** <a id=\"m_costs\"></a>"
   ]
  },
  {
   "cell_type": "code",
   "execution_count": 46,
   "metadata": {},
   "outputs": [
    {
     "name": "stdout",
     "output_type": "stream",
     "text": [
      "Общие расходы на маркетинг: 329131.62 $\n"
     ]
    }
   ],
   "source": [
    "print('Общие расходы на маркетинг: {:.2f} $'.format(costs['costs'].sum()))"
   ]
  },
  {
   "cell_type": "code",
   "execution_count": 47,
   "metadata": {
    "scrolled": true
   },
   "outputs": [
    {
     "data": {
      "image/png": "[encoded data removed]",
      "text/plain": [
       "<Figure size 720x504 with 1 Axes>"
      ]
     },
     "metadata": {},
     "output_type": "display_data"
    }
   ],
   "source": [
    "# рассчитаем расходы в разрезе источников\n",
    "costs_by_sourse = costs.groupby('source_id')['costs'].sum()\n",
    "\n",
    "fig, ax = plt.subplots(figsize=(10,7), subplot_kw=dict(aspect=\"equal\"))\n",
    "\n",
    "def func(pct, allvals):\n",
    "    absolute = int(pct/100.*np.sum(allvals))\n",
    "    return \"{:d} $ ({:.1f}%)\".format(absolute, pct)\n",
    "\n",
    "wedges, texts, autotexts = ax.pie(costs_by_sourse, autopct=lambda pct: func(pct, costs_by_sourse),\n",
    "                                  textprops=dict(color=\"w\"))\n",
    "ax.legend(wedges, costs_by_sourse.index,\n",
    "          title=\"Источники\",\n",
    "          loc=\"center left\",\n",
    "          bbox_to_anchor=(1, 0, 1, 1))\n",
    "\n",
    "plt.setp(autotexts, size=10)\n",
    "ax.set_title('Затраты по источникам', fontsize=14)\n",
    "plt.show()"
   ]
  },
  {
   "cell_type": "markdown",
   "metadata": {},
   "source": [
    "Большая часть расходов уходить на источник № 3."
   ]
  },
  {
   "cell_type": "code",
   "execution_count": 48,
   "metadata": {},
   "outputs": [
    {
     "data": {
      "image/png": "[encoded data removed]",
      "text/plain": [
       "<Figure size 720x288 with 1 Axes>"
      ]
     },
     "metadata": {
      "needs_background": "light"
     },
     "output_type": "display_data"
    }
   ],
   "source": [
    "costs['costs_month'] = costs['dt'].dt.strftime('%Y-%m')\n",
    "costs.pivot_table(index='costs_month', values='costs', aggfunc='sum')\\\n",
    "        .plot(kind='bar', figsize=(10,4), title = 'Затраты по месяцам')\n",
    "plt.show()"
   ]
  },
  {
   "cell_type": "markdown",
   "metadata": {},
   "source": [
    "### CAC <a id=\"CAC\"></a>\n",
    "Сколько стоило привлечение одного покупателя из каждого источника? САС\n",
    "\n",
    "Нужно учесть, что для расчета LTV мы брали когорты прожившие 6 и более месяцев. \n",
    "\n",
    "Чтобы данные для расчета окупаемости были сопоставимы, **САС будем считать по тем же когортам (01.06.2017 - 01.12.17)**."
   ]
  },
  {
   "cell_type": "code",
   "execution_count": 49,
   "metadata": {
    "scrolled": true
   },
   "outputs": [],
   "source": [
    "# переведем исходную дату в месячный тип для дальнейших группировок\n",
    "costs['dt'] = costs['dt'].astype('datetime64[M]')"
   ]
  },
  {
   "cell_type": "code",
   "execution_count": 50,
   "metadata": {
    "scrolled": true
   },
   "outputs": [],
   "source": [
    "# добавим информацию по затратам на источник к общим данным\n",
    "orders_group = orders_group.merge(\n",
    "             # группируем данные по источнику и периоду   \n",
    "            (costs.groupby(['source_id', 'dt'])['costs'].sum().reset_index()).rename(columns={'costs': 'costs_by_source'}), \n",
    "            left_on=['first_order_month', 'first_source_id'], \n",
    "            right_on=['dt', 'source_id'], \n",
    "            how='left') # т.к. в заказах у нас на 1 период и на 1 источник больше, используем тип соединения left"
   ]
  },
  {
   "cell_type": "code",
   "execution_count": 51,
   "metadata": {},
   "outputs": [
    {
     "data": {
      "text/html": [
       "<div>\n",
       "<style scoped>\n",
       "    .dataframe tbody tr th:only-of-type {\n",
       "        vertical-align: middle;\n",
       "    }\n",
       "\n",
       "    .dataframe tbody tr th {\n",
       "        vertical-align: top;\n",
       "    }\n",
       "\n",
       "    .dataframe thead th {\n",
       "        text-align: right;\n",
       "    }\n",
       "</style>\n",
       "<table border=\"1\" class=\"dataframe\">\n",
       "  <thead>\n",
       "    <tr style=\"text-align: right;\">\n",
       "      <th></th>\n",
       "      <th>first_order_month</th>\n",
       "      <th>age</th>\n",
       "      <th>first_source_id</th>\n",
       "      <th>first_device</th>\n",
       "      <th>customers_cnt</th>\n",
       "      <th>orders_cnt</th>\n",
       "      <th>revenue</th>\n",
       "      <th>gross_profit</th>\n",
       "      <th>n_customers</th>\n",
       "      <th>source_id</th>\n",
       "      <th>dt</th>\n",
       "      <th>costs_by_source</th>\n",
       "      <th>costs</th>\n",
       "    </tr>\n",
       "  </thead>\n",
       "  <tbody>\n",
       "    <tr>\n",
       "      <td>0</td>\n",
       "      <td>2017-06-01</td>\n",
       "      <td>0</td>\n",
       "      <td>1</td>\n",
       "      <td>desktop</td>\n",
       "      <td>169</td>\n",
       "      <td>223</td>\n",
       "      <td>1035.53</td>\n",
       "      <td>517.765</td>\n",
       "      <td>169</td>\n",
       "      <td>1.0</td>\n",
       "      <td>2017-06-01</td>\n",
       "      <td>1125.61</td>\n",
       "      <td>18015.0</td>\n",
       "    </tr>\n",
       "    <tr>\n",
       "      <td>1</td>\n",
       "      <td>2017-06-01</td>\n",
       "      <td>1</td>\n",
       "      <td>1</td>\n",
       "      <td>desktop</td>\n",
       "      <td>9</td>\n",
       "      <td>60</td>\n",
       "      <td>287.78</td>\n",
       "      <td>143.890</td>\n",
       "      <td>169</td>\n",
       "      <td>1.0</td>\n",
       "      <td>2017-06-01</td>\n",
       "      <td>1125.61</td>\n",
       "      <td>18015.0</td>\n",
       "    </tr>\n",
       "  </tbody>\n",
       "</table>\n",
       "</div>"
      ],
      "text/plain": [
       "  first_order_month  age  first_source_id first_device  customers_cnt  \\\n",
       "0        2017-06-01    0                1      desktop            169   \n",
       "1        2017-06-01    1                1      desktop              9   \n",
       "\n",
       "   orders_cnt  revenue  gross_profit  n_customers  source_id         dt  \\\n",
       "0         223  1035.53       517.765          169        1.0 2017-06-01   \n",
       "1          60   287.78       143.890          169        1.0 2017-06-01   \n",
       "\n",
       "   costs_by_source    costs  \n",
       "0          1125.61  18015.0  \n",
       "1          1125.61  18015.0  "
      ]
     },
     "execution_count": 51,
     "metadata": {},
     "output_type": "execute_result"
    }
   ],
   "source": [
    "# добавим информацию по затратам в месяц к общим данным\n",
    "orders_group = orders_group.merge(\n",
    "            # группируем данные по периоду \n",
    "            (costs.groupby(['dt'])['costs'].sum().reset_index()),\n",
    "            on='dt', how='left')\n",
    "orders_group.head(2)"
   ]
  },
  {
   "cell_type": "code",
   "execution_count": 52,
   "metadata": {},
   "outputs": [],
   "source": [
    "# добавим к LTV общие расходы\n",
    "cohorts_orders = cohorts_orders.merge(\n",
    "                (costs.groupby(['dt'])['costs'].sum().reset_index()),\n",
    "                 left_on='first_order_month', right_on='dt')\n",
    "\n",
    "\n",
    "cohorts_orders['costs_per_client'] = cohorts_orders['costs']/cohorts_orders['n_customers']\n",
    "cohorts_orders['romi'] = cohorts_orders['gp_per_client']/cohorts_orders['costs_per_client']"
   ]
  },
  {
   "cell_type": "code",
   "execution_count": 53,
   "metadata": {
    "scrolled": false
   },
   "outputs": [
    {
     "data": {
      "text/html": [
       "<div>\n",
       "<style scoped>\n",
       "    .dataframe tbody tr th:only-of-type {\n",
       "        vertical-align: middle;\n",
       "    }\n",
       "\n",
       "    .dataframe tbody tr th {\n",
       "        vertical-align: top;\n",
       "    }\n",
       "\n",
       "    .dataframe thead th {\n",
       "        text-align: right;\n",
       "    }\n",
       "</style>\n",
       "<table border=\"1\" class=\"dataframe\">\n",
       "  <thead>\n",
       "    <tr style=\"text-align: right;\">\n",
       "      <th></th>\n",
       "      <th>first_source_id</th>\n",
       "      <th>cac</th>\n",
       "    </tr>\n",
       "  </thead>\n",
       "  <tbody>\n",
       "    <tr>\n",
       "      <td>0</td>\n",
       "      <td>1</td>\n",
       "      <td>5.53</td>\n",
       "    </tr>\n",
       "    <tr>\n",
       "      <td>1</td>\n",
       "      <td>2</td>\n",
       "      <td>9.85</td>\n",
       "    </tr>\n",
       "    <tr>\n",
       "      <td>2</td>\n",
       "      <td>3</td>\n",
       "      <td>16.19</td>\n",
       "    </tr>\n",
       "    <tr>\n",
       "      <td>3</td>\n",
       "      <td>4</td>\n",
       "      <td>7.27</td>\n",
       "    </tr>\n",
       "    <tr>\n",
       "      <td>4</td>\n",
       "      <td>5</td>\n",
       "      <td>7.36</td>\n",
       "    </tr>\n",
       "    <tr>\n",
       "      <td>5</td>\n",
       "      <td>7</td>\n",
       "      <td>NaN</td>\n",
       "    </tr>\n",
       "    <tr>\n",
       "      <td>6</td>\n",
       "      <td>9</td>\n",
       "      <td>3.55</td>\n",
       "    </tr>\n",
       "    <tr>\n",
       "      <td>7</td>\n",
       "      <td>10</td>\n",
       "      <td>6.04</td>\n",
       "    </tr>\n",
       "  </tbody>\n",
       "</table>\n",
       "</div>"
      ],
      "text/plain": [
       "   first_source_id    cac\n",
       "0                1   5.53\n",
       "1                2   9.85\n",
       "2                3  16.19\n",
       "3                4   7.27\n",
       "4                5   7.36\n",
       "5                7    NaN\n",
       "6                9   3.55\n",
       "7               10   6.04"
      ]
     },
     "execution_count": 53,
     "metadata": {},
     "output_type": "execute_result"
    }
   ],
   "source": [
    "# рассчитаем средние затраты на 1 пользователя по источникам\n",
    "# добавляем фильтр на период (01.06.2017 - 01.12.17) по выбранным для расчета ltv когортам\n",
    "CAC = orders_group.query('age == 0  & first_order_month <= 20171201').groupby(['first_source_id', 'first_order_month'])\\\n",
    "                    .agg({'costs_by_source':'mean', 'n_customers':'sum'}).reset_index()\n",
    "CAC['cac'] = CAC['costs_by_source']/CAC['n_customers']\n",
    "\n",
    "сас_by_source = CAC.groupby(['first_source_id'])['cac'].mean().reset_index().round(2)\n",
    "сас_by_source"
   ]
  },
  {
   "cell_type": "code",
   "execution_count": 54,
   "metadata": {
    "scrolled": true
   },
   "outputs": [
    {
     "data": {
      "text/plain": [
       "187961.15"
      ]
     },
     "execution_count": 54,
     "metadata": {},
     "output_type": "execute_result"
    }
   ],
   "source": [
    "CAC['costs_by_source'].sum().round(2) # общие затраты по 7 когортам"
   ]
  },
  {
   "cell_type": "code",
   "execution_count": 55,
   "metadata": {
    "scrolled": true
   },
   "outputs": [
    {
     "name": "stdout",
     "output_type": "stream",
     "text": [
      "Общие затраты на 1 пользователя равны: 9.08\n"
     ]
    }
   ],
   "source": [
    "# рассчитаем общие затраты на 1 пользователя\n",
    "print('Общие затраты на 1 пользователя равны: {:.2f}'.format(\n",
    "    CAC['costs_by_source'].sum()/orders_group.query('age == 0 & first_order_month <= 20171201')['n_customers'].sum())\n",
    "     )"
   ]
  },
  {
   "cell_type": "markdown",
   "metadata": {},
   "source": [
    "### ROMI <a id=\"ROMI\"></a>\n",
    "На сколько окупились расходы?"
   ]
  },
  {
   "cell_type": "markdown",
   "metadata": {},
   "source": [
    "Для проверки окупаемости рассчитаем ROMI - показатель возврата инвестиций маркетинговых каналов.\n",
    "\n",
    "ROMI = LTV / CAC. \n",
    "Для того чтобы посчитать окупаемость источника, необходимо сначала рассчитать LTV по каждому из них."
   ]
  },
  {
   "cell_type": "code",
   "execution_count": 56,
   "metadata": {
    "scrolled": true
   },
   "outputs": [
    {
     "name": "stdout",
     "output_type": "stream",
     "text": [
      "Общая окупаемость инвестиций: 0.45\n"
     ]
    }
   ],
   "source": [
    "# рассчитаем общий ROMI по проекту\n",
    "ROMI = cumulative_ltv/(CAC['costs_by_source'].sum()/orders_group\n",
    "                .query('age == 0 & first_order_month <= 20171201')['n_customers'].sum())\n",
    "\n",
    "print('Общая окупаемость инвестиций: {:.2f}'.format(ROMI))"
   ]
  },
  {
   "cell_type": "code",
   "execution_count": 57,
   "metadata": {},
   "outputs": [],
   "source": [
    "# посмотрим на окупаемость по когортам"
   ]
  },
  {
   "cell_type": "code",
   "execution_count": 58,
   "metadata": {
    "scrolled": true
   },
   "outputs": [
    {
     "data": {
      "image/png": "[encoded data removed]",
      "text/plain": [
       "<Figure size 936x432 with 2 Axes>"
      ]
     },
     "metadata": {
      "needs_background": "light"
     },
     "output_type": "display_data"
    }
   ],
   "source": [
    "romi_by_month = cohorts_orders.pivot_table(\n",
    "                                index='cohort_month',\n",
    "                                columns = 'age',\n",
    "                                values = 'romi',\n",
    "                                            ).cumsum(axis=1).round(2) \n",
    "\n",
    "plt.figure(figsize=(13, 6)) \n",
    "plt.title('romi по месяцам') \n",
    "sns.heatmap(romi_by_month, annot=True, fmt='.2f', linewidths=1, linecolor='black')\n",
    "plt.show()"
   ]
  },
  {
   "cell_type": "code",
   "execution_count": 59,
   "metadata": {
    "scrolled": true
   },
   "outputs": [],
   "source": [
    "# напишем функцию расчета ltv по источникам, т.к. расчет нужно делать по аналогии с общим ltv - накопительно по когортам\n",
    "list_of_source = costs['source_id'].unique()\n",
    "\n",
    "def ltv_calc(list_of_values):\n",
    "    result = []\n",
    "    for i in list_of_values:\n",
    "        val = i\n",
    "        cohorts = orders_group.query('first_source_id == @val')\\\n",
    "                            .groupby(['first_order_month', 'age']).agg({'gross_profit':'sum', 'n_customers':'sum'})\n",
    "        cohorts = cohorts.reset_index()\n",
    "        cohorts['gp_per_client'] = cohorts['gross_profit']/cohorts['n_customers']\n",
    "        cohorts.head(2)\n",
    "\n",
    "        cumulative_ltv = cohorts.query('first_order_month <= 20171201').pivot_table(\n",
    "            index='first_order_month', \n",
    "            columns='age', \n",
    "            values='gp_per_client', \n",
    "            aggfunc='sum').mean(axis=0).cumsum()[5].round(2)\n",
    "        result.append(cumulative_ltv)\n",
    "    return result\n",
    "\n",
    "# сохраним результат в таблицу\n",
    "d1 = {'source': list_of_source, 'ltv': ltv_calc(list_of_source)}\n",
    "ltv_by_source = pd.DataFrame(data=d1)"
   ]
  },
  {
   "cell_type": "code",
   "execution_count": 60,
   "metadata": {},
   "outputs": [],
   "source": [
    "# объединим данные по ltv и cac для расчета romi\n",
    "romi_source = сас_by_source.merge(ltv_by_source, left_on='first_source_id',right_on='source')"
   ]
  },
  {
   "cell_type": "code",
   "execution_count": 61,
   "metadata": {
    "scrolled": false
   },
   "outputs": [],
   "source": [
    "romi_source['romi'] = (romi_source['ltv']/romi_source['cac']).round(2)\n",
    "romi_source = romi_source[['first_source_id', 'cac', 'ltv', 'romi']]"
   ]
  },
  {
   "cell_type": "code",
   "execution_count": 62,
   "metadata": {
    "scrolled": false
   },
   "outputs": [
    {
     "data": {
      "text/html": [
       "<div>\n",
       "<style scoped>\n",
       "    .dataframe tbody tr th:only-of-type {\n",
       "        vertical-align: middle;\n",
       "    }\n",
       "\n",
       "    .dataframe tbody tr th {\n",
       "        vertical-align: top;\n",
       "    }\n",
       "\n",
       "    .dataframe thead th {\n",
       "        text-align: right;\n",
       "    }\n",
       "</style>\n",
       "<table border=\"1\" class=\"dataframe\">\n",
       "  <thead>\n",
       "    <tr style=\"text-align: right;\">\n",
       "      <th></th>\n",
       "      <th>first_source_id</th>\n",
       "      <th>customers_cnt</th>\n",
       "      <th>orders_cnt</th>\n",
       "      <th>revenue</th>\n",
       "      <th>cac</th>\n",
       "      <th>ltv</th>\n",
       "      <th>romi</th>\n",
       "      <th>costs</th>\n",
       "      <th>gp</th>\n",
       "      <th>np</th>\n",
       "      <th>avg_check</th>\n",
       "      <th>orders_per_client</th>\n",
       "    </tr>\n",
       "  </thead>\n",
       "  <tbody>\n",
       "    <tr>\n",
       "      <td>0</td>\n",
       "      <td>1</td>\n",
       "      <td>4386</td>\n",
       "      <td>6679</td>\n",
       "      <td>38560.06</td>\n",
       "      <td>5.53</td>\n",
       "      <td>5.51</td>\n",
       "      <td>1</td>\n",
       "      <td>20833.27</td>\n",
       "      <td>19280.030</td>\n",
       "      <td>-1553.240</td>\n",
       "      <td>5.773328</td>\n",
       "      <td>1.522800</td>\n",
       "    </tr>\n",
       "    <tr>\n",
       "      <td>1</td>\n",
       "      <td>2</td>\n",
       "      <td>5319</td>\n",
       "      <td>7734</td>\n",
       "      <td>65152.26</td>\n",
       "      <td>9.85</td>\n",
       "      <td>9.94</td>\n",
       "      <td>1.01</td>\n",
       "      <td>42806.04</td>\n",
       "      <td>32576.130</td>\n",
       "      <td>-10229.910</td>\n",
       "      <td>8.424135</td>\n",
       "      <td>1.454033</td>\n",
       "    </tr>\n",
       "    <tr>\n",
       "      <td>2</td>\n",
       "      <td>3</td>\n",
       "      <td>9904</td>\n",
       "      <td>10941</td>\n",
       "      <td>44317.68</td>\n",
       "      <td>16.19</td>\n",
       "      <td>2.67</td>\n",
       "      <td>0.16</td>\n",
       "      <td>141321.63</td>\n",
       "      <td>22158.840</td>\n",
       "      <td>-119162.790</td>\n",
       "      <td>4.050606</td>\n",
       "      <td>1.104705</td>\n",
       "    </tr>\n",
       "    <tr>\n",
       "      <td>3</td>\n",
       "      <td>4</td>\n",
       "      <td>10893</td>\n",
       "      <td>12246</td>\n",
       "      <td>52479.75</td>\n",
       "      <td>7.27</td>\n",
       "      <td>2.95</td>\n",
       "      <td>0.41</td>\n",
       "      <td>61073.60</td>\n",
       "      <td>26239.875</td>\n",
       "      <td>-34833.725</td>\n",
       "      <td>4.285461</td>\n",
       "      <td>1.124208</td>\n",
       "    </tr>\n",
       "    <tr>\n",
       "      <td>4</td>\n",
       "      <td>5</td>\n",
       "      <td>7456</td>\n",
       "      <td>9310</td>\n",
       "      <td>40357.91</td>\n",
       "      <td>7.36</td>\n",
       "      <td>3.36</td>\n",
       "      <td>0.46</td>\n",
       "      <td>51757.10</td>\n",
       "      <td>20178.955</td>\n",
       "      <td>-31578.145</td>\n",
       "      <td>4.334899</td>\n",
       "      <td>1.248659</td>\n",
       "    </tr>\n",
       "    <tr>\n",
       "      <td>5</td>\n",
       "      <td>7</td>\n",
       "      <td>1</td>\n",
       "      <td>1</td>\n",
       "      <td>1.22</td>\n",
       "      <td></td>\n",
       "      <td></td>\n",
       "      <td></td>\n",
       "      <td>0.00</td>\n",
       "      <td>0.610</td>\n",
       "      <td>0.610</td>\n",
       "      <td>1.220000</td>\n",
       "      <td>1.000000</td>\n",
       "    </tr>\n",
       "    <tr>\n",
       "      <td>6</td>\n",
       "      <td>9</td>\n",
       "      <td>1741</td>\n",
       "      <td>2053</td>\n",
       "      <td>7076.98</td>\n",
       "      <td>3.55</td>\n",
       "      <td>2.84</td>\n",
       "      <td>0.8</td>\n",
       "      <td>5517.49</td>\n",
       "      <td>3538.490</td>\n",
       "      <td>-1979.000</td>\n",
       "      <td>3.447141</td>\n",
       "      <td>1.179207</td>\n",
       "    </tr>\n",
       "    <tr>\n",
       "      <td>7</td>\n",
       "      <td>10</td>\n",
       "      <td>1319</td>\n",
       "      <td>1451</td>\n",
       "      <td>4111.34</td>\n",
       "      <td>6.04</td>\n",
       "      <td>1.9</td>\n",
       "      <td>0.31</td>\n",
       "      <td>5822.49</td>\n",
       "      <td>2055.670</td>\n",
       "      <td>-3766.820</td>\n",
       "      <td>2.833453</td>\n",
       "      <td>1.100076</td>\n",
       "    </tr>\n",
       "  </tbody>\n",
       "</table>\n",
       "</div>"
      ],
      "text/plain": [
       "   first_source_id  customers_cnt  orders_cnt   revenue    cac   ltv  romi  \\\n",
       "0                1           4386        6679  38560.06   5.53  5.51     1   \n",
       "1                2           5319        7734  65152.26   9.85  9.94  1.01   \n",
       "2                3           9904       10941  44317.68  16.19  2.67  0.16   \n",
       "3                4          10893       12246  52479.75   7.27  2.95  0.41   \n",
       "4                5           7456        9310  40357.91   7.36  3.36  0.46   \n",
       "5                7              1           1      1.22                      \n",
       "6                9           1741        2053   7076.98   3.55  2.84   0.8   \n",
       "7               10           1319        1451   4111.34   6.04   1.9  0.31   \n",
       "\n",
       "       costs         gp          np  avg_check  orders_per_client  \n",
       "0   20833.27  19280.030   -1553.240   5.773328           1.522800  \n",
       "1   42806.04  32576.130  -10229.910   8.424135           1.454033  \n",
       "2  141321.63  22158.840 -119162.790   4.050606           1.104705  \n",
       "3   61073.60  26239.875  -34833.725   4.285461           1.124208  \n",
       "4   51757.10  20178.955  -31578.145   4.334899           1.248659  \n",
       "5       0.00      0.610       0.610   1.220000           1.000000  \n",
       "6    5517.49   3538.490   -1979.000   3.447141           1.179207  \n",
       "7    5822.49   2055.670   -3766.820   2.833453           1.100076  "
      ]
     },
     "execution_count": 62,
     "metadata": {},
     "output_type": "execute_result"
    }
   ],
   "source": [
    "# соберем общую статистику по источникам\n",
    "source_stat = (orders_group.groupby('first_source_id')\n",
    "               .agg({'customers_cnt':'sum', 'orders_cnt':'sum', 'revenue':'sum'})\n",
    "                            .round(2).reset_index())\n",
    "\n",
    "source_stat = source_stat.merge(romi_source, on='first_source_id', how='left').fillna('')\n",
    "source_stat = source_stat.merge(costs.groupby('source_id')['costs'].sum().reset_index(),\n",
    "                                left_on = 'first_source_id',\n",
    "                                right_on = 'source_id', \n",
    "                                how = 'left').fillna(0)\n",
    "\n",
    "source_stat.drop('source_id', axis=1, inplace=True)\n",
    "source_stat['gp'] = source_stat['revenue']*margin_rate\n",
    "source_stat['np'] = source_stat['gp'] -  source_stat['costs'] # рассчитаем годовую прибыль по источникам за вычетом затрат\n",
    "source_stat['avg_check'] = source_stat['revenue']/source_stat['orders_cnt']\n",
    "source_stat['orders_per_client'] = source_stat['orders_cnt']/source_stat['customers_cnt']\n",
    "source_stat"
   ]
  },
  {
   "cell_type": "markdown",
   "metadata": {},
   "source": [
    "Исходя из полученных данных можно сделать вывод, что при принятом коэффициенте маржинальности **0,5** по 7 выбранным когортам **окупаются только первые 2 источника**, общий к-т окупаемости по проекту равен <font color='red'> **45%** </font>. \n",
    "\n",
    "При этом источник № 3, на который приходятся самые высокие затраты на привлечение 1 пользователя имеет самый низкий % окупаемости. Из более прибыльных каналов можно выделить источники 1,2 и также можно поработать с источником № 9."
   ]
  },
  {
   "cell_type": "code",
   "execution_count": 63,
   "metadata": {
    "scrolled": true
   },
   "outputs": [
    {
     "data": {
      "text/html": [
       "<div>\n",
       "<style scoped>\n",
       "    .dataframe tbody tr th:only-of-type {\n",
       "        vertical-align: middle;\n",
       "    }\n",
       "\n",
       "    .dataframe tbody tr th {\n",
       "        vertical-align: top;\n",
       "    }\n",
       "\n",
       "    .dataframe thead th {\n",
       "        text-align: right;\n",
       "    }\n",
       "</style>\n",
       "<table border=\"1\" class=\"dataframe\">\n",
       "  <thead>\n",
       "    <tr style=\"text-align: right;\">\n",
       "      <th></th>\n",
       "      <th>first_device</th>\n",
       "      <th>customers_cnt</th>\n",
       "      <th>orders_cnt</th>\n",
       "      <th>revenue</th>\n",
       "    </tr>\n",
       "  </thead>\n",
       "  <tbody>\n",
       "    <tr>\n",
       "      <td>0</td>\n",
       "      <td>desktop</td>\n",
       "      <td>32985</td>\n",
       "      <td>40904</td>\n",
       "      <td>211531.81</td>\n",
       "    </tr>\n",
       "    <tr>\n",
       "      <td>1</td>\n",
       "      <td>touch</td>\n",
       "      <td>8034</td>\n",
       "      <td>9511</td>\n",
       "      <td>40525.39</td>\n",
       "    </tr>\n",
       "  </tbody>\n",
       "</table>\n",
       "</div>"
      ],
      "text/plain": [
       "  first_device  customers_cnt  orders_cnt    revenue\n",
       "0      desktop          32985       40904  211531.81\n",
       "1        touch           8034        9511   40525.39"
      ]
     },
     "execution_count": 63,
     "metadata": {},
     "output_type": "execute_result"
    }
   ],
   "source": [
    "# посмотрим на показатели выручки по девайсам\n",
    "device_stat = (orders_group.groupby('first_device')\n",
    "               .agg({'customers_cnt':'sum', 'orders_cnt':'sum', 'revenue':'sum'})\n",
    "                            .round(2).reset_index())\n",
    "device_stat"
   ]
  },
  {
   "cell_type": "markdown",
   "metadata": {},
   "source": [
    "Большую часть выручки приносят клиенты, используеющие компьютер."
   ]
  },
  {
   "cell_type": "markdown",
   "metadata": {},
   "source": [
    "### Общий вывод <a id=\"end\"></a>"
   ]
  },
  {
   "cell_type": "markdown",
   "metadata": {},
   "source": [
    "#### Шаг 3. Напишите вывод\n",
    "\n",
    "Порекомендуйте маркетологам, куда и сколько им стоит вкладывать денег?\n",
    "Какие источники/платформы вы бы порекомендовали? Объясните свой выбор: на какие метрики вы ориентируетесь? Почему? Какие выводы вы сделали, узнав значение метрик?\n"
   ]
  },
  {
   "cell_type": "markdown",
   "metadata": {},
   "source": [
    "**Вывод:**\n",
    "\n",
    "Один пользователь обычно совершает 1 сессию в день, средняя продолжительность сессии составляет 1 минуту. \n",
    "Самое частое время от начала сессии до первого заказа - 1-2 минут. Это может говорить о том, что пользователи заходят на сайт уже зная, что они хотят купить и не тратят время на выбор.\n",
    "\n",
    "Основная часть пользователей использует для покупок тип девайса desktop, а не touch.\n",
    "\n",
    "В среднем на слудющий месяц после 1-го захода возвращается всего 6,5% пользователей, в последующие месяца показатель постепенно снижается.\n",
    "\n",
    "Средний чек заказа составляет 5 долл., в конце года чек немного выше, чем другие периоды. Аналогичную картину можно наблюдать и с количеством продаж - среднее кол-во покупок на 1 пользователя по году практически не отличается, а вот общее кол-во продаж в период с октября по декабрь выше, чем в остальные периоды.\n",
    "\n",
    "Самый высокий средний чек у клиентов из когорты сентября 2019 года, он составляет 8,94 долл.\n",
    "\n",
    "1 клиент приносит компании 4,09долл., а затарты на 1 клиента составляют - 9.08долл., в целом проект окупается всего на 45%.\n",
    "\n",
    "Среди источников прибыльными являютмя только источники №1 и №2, также можно отметить, что у данных источников самые высокие средние чеки и кол-во продаж на 1 клиента. \n",
    "42% расходов приходится на источник № 3 с самым низким % окупаемости(16%), при этом по кол-ву клиентов этот источник находится на 2 месте.\n",
    "\n",
    "**Рекомендации:**\n",
    "\n",
    "В первую очередь нужно обратить внимание на распределение расходов по рекламным источникам:\n",
    "- сократить расходы на источник № 3 и также поработать над увеличением среднего чека и кол-ва продаж на 1 пользователя, чтобы нивелировать его низкий % окупаемости\n",
    "- увеличить финансирование источников 1 и 2\n",
    "- поработать над увеличением чека клиентов 4 и 5 источников\n",
    "\n",
    "Также у сервиса довольно низкий % повторных заходов/покупок, можно попытаться увеличить этот показатель\n"
   ]
  }
 ],
 "metadata": {
  "kernelspec": {
   "display_name": "Python 3",
   "language": "python",
   "name": "python3"
  },
  "language_info": {
   "codemirror_mode": {
    "name": "ipython",
    "version": 3
   },
   "file_extension": ".py",
   "mimetype": "text/x-python",
   "name": "python",
   "nbconvert_exporter": "python",
   "pygments_lexer": "ipython3",
   "version": "3.7.4"
  }
 },
 "nbformat": 4,
 "nbformat_minor": 2
}
